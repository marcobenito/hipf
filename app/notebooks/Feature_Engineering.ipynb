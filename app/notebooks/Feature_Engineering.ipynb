{
 "cells": [
  {
   "cell_type": "markdown",
   "metadata": {
    "id": "K2IIwpIK3DZa"
   },
   "source": [
    "# Feature engineering\n",
    "\n",
    "En este notebook realizaremos tareas propias del feature engineering. En particular, trataremos de estudiar la importancia de las variables para decidir si hay alguna variable que podamos eliminar porque no aporta ninguna información relevante al modelo, e intentaremos crear variables nuevas a partir del análisis realizado en el notebook *Data_Exploration*"
   ]
  },
  {
   "cell_type": "code",
   "execution_count": 1,
   "metadata": {
    "id": "9X9cDhQ02lUx"
   },
   "outputs": [],
   "source": [
    "import numpy as np\n",
    "import pandas as pd\n",
    "import matplotlib.pyplot as plt\n",
    "\n",
    "%matplotlib inline"
   ]
  },
  {
   "cell_type": "code",
   "execution_count": 3,
   "metadata": {
    "id": "SbBe-XA62lU2"
   },
   "outputs": [],
   "source": [
    "data = pd.read_csv('ds_job.csv')"
   ]
  },
  {
   "cell_type": "markdown",
   "metadata": {
    "id": "FFdyfV8xE8dF"
   },
   "source": [
    "## 1. Feature importances"
   ]
  },
  {
   "cell_type": "markdown",
   "metadata": {
    "id": "PVIx6E7U2_Rv"
   },
   "source": [
    "Vamos a definir en primer lugar una función que nos permita estudiar la importancia de las variables (feature importances). Para ello, emplearemos la función SelectKBest de sklearn, que calculará dicha importancia en base a la distribución chi-cuadrado."
   ]
  },
  {
   "cell_type": "code",
   "execution_count": 5,
   "metadata": {
    "id": "xZ6q2j1s4ceG"
   },
   "outputs": [],
   "source": [
    "from sklearn.feature_selection import SelectKBest, chi2\n",
    "from sklearn.model_selection import train_test_split\n",
    "from sklearn.preprocessing import OrdinalEncoder, LabelEncoder\n",
    "from sklearn.impute import SimpleImputer\n",
    "\n",
    "def select_features(X_train, y_train, X_test):\n",
    "    fs = SelectKBest(score_func=chi2, k='all')\n",
    "    fs.fit(X_train, y_train)\n",
    "    X_train_fs = fs.transform(X_train)\n",
    "    X_test_fs = fs.transform(X_test)\n",
    "    return X_train_fs, X_test_fs, fs\n",
    "\n",
    "def prepare_inputs(X_train, X_test):\n",
    "    oe = OrdinalEncoder()\n",
    "    oe.fit(X_train)\n",
    "    X_train_enc = oe.transform(X_train)\n",
    "    X_test_enc = oe.transform(X_test)\n",
    "    return X_train_enc, X_test_enc\n",
    "\n",
    "def prepare_targets(y_train, y_test):\n",
    "    le = LabelEncoder()\n",
    "    le.fit(y_train)\n",
    "    y_train_enc = le.transform(y_train)\n",
    "    y_test_enc = le.transform(y_test)\n",
    "    return y_train_enc, y_test_enc\n",
    "\n",
    "\n",
    "def feature_importances(X, y):\n",
    "    X_train, X_test, y_train, y_test = train_test_split(X, y, test_size=0.33, random_state=1)\n",
    "    # prepare input data\n",
    "    X_train_enc, X_test_enc = prepare_inputs(X_train, X_test)\n",
    "    # prepare output data\n",
    "    y_train_enc, y_test_enc = prepare_targets(y_train, y_test)\n",
    "    # feature selection\n",
    "    X_train_fs, X_test_fs, fs = select_features(X_train_enc, y_train_enc, X_test_enc)\n",
    "\n",
    "    columns = X.columns.to_list()\n",
    "    importances = fs.scores_\n",
    "    indices = np.argsort(importances)[::-1]\n",
    "\n",
    "    # Print the feature ranking\n",
    "    print(\"Feature ranking:\")\n",
    "\n",
    "    for f in range(X.shape[1]):\n",
    "        print(\"%d. feature %d (%s): %f\" % (f + 1, indices[f], columns[indices[f]], importances[indices[f]]))\n",
    "        \n",
    "    plt.figure()\n",
    "    plt.title(\"Feature importances\")\n",
    "    plt.bar(range(X.shape[1]), importances[indices],\n",
    "            color=\"r\", align=\"center\")\n",
    "    plt.xticks(range(X.shape[1]), indices)\n",
    "    plt.xlim([-1, X.shape[1]])\n",
    "    plt.show()\n",
    "\n",
    "\n"
   ]
  },
  {
   "cell_type": "code",
   "execution_count": 6,
   "metadata": {
    "id": "KxQde35y5zW_"
   },
   "outputs": [],
   "source": [
    "def preprocess_for_FI(data):\n",
    "    X1 = data.drop(columns=['empleado_id', 'target'])\n",
    "    y = data['target']\n",
    "\n",
    "    # Las variables numéricas serán aquellas cuyo dtype sea distinto de Object\n",
    "    num_cols = [col for col in X1.columns if X1[col].dtype!='O']\n",
    "    num_data = X1[num_cols]\n",
    "    cat_data = X1.drop(columns=num_cols)\n",
    "\n",
    "    imputer = SimpleImputer(strategy='median')\n",
    "    numeric_set_1 = pd.DataFrame(imputer.fit_transform(num_data), columns=num_data.columns)\n",
    "\n",
    "    imputer_cat = SimpleImputer(strategy='most_frequent')\n",
    "    cat_set_1 = pd.DataFrame(imputer_cat.fit_transform(cat_data), columns=cat_data.columns)\n",
    "\n",
    "    X = pd.concat([numeric_set_1, cat_set_1], axis=1)\n",
    "    # X = cat_set_1\n",
    "    return X, y"
   ]
  },
  {
   "cell_type": "code",
   "execution_count": 148,
   "metadata": {
    "colab": {
     "base_uri": "https://localhost:8080/",
     "height": 507
    },
    "id": "2sP6-HxZ4Pxg",
    "outputId": "9d9a2d81-e815-45ff-d51c-d4730d5b1fb8"
   },
   "outputs": [
    {
     "name": "stdout",
     "output_type": "stream",
     "text": [
      "Feature ranking:\n",
      "1. feature 0 (indice_desarrollo_ciudad): 20049.376856\n",
      "2. feature 2 (ciudad): 1227.794152\n",
      "3. feature 1 (horas_formacion): 170.743027\n",
      "4. feature 4 (experiencia_relevante): 163.755148\n",
      "5. feature 6 (nivel_educacion): 135.684527\n",
      "6. feature 5 (universidad_matriculado): 118.802049\n",
      "7. feature 9 (tamano_compania): 25.929702\n",
      "8. feature 11 (ultimo_nuevo_trabajo): 21.460701\n",
      "9. feature 10 (tipo_compania): 18.804182\n",
      "10. feature 8 (experiencia): 6.114468\n",
      "11. feature 7 (educacion): 0.356147\n",
      "12. feature 3 (genero): 0.069365\n"
     ]
    },
    {
     "data": {
      "image/png": "[encoded data removed]",
      "text/plain": [
       "<Figure size 432x288 with 1 Axes>"
      ]
     },
     "metadata": {
      "needs_background": "light",
      "tags": []
     },
     "output_type": "display_data"
    }
   ],
   "source": [
    "X, y = preprocess_for_FI(data)\n",
    "feature_importances(X, y)"
   ]
  },
  {
   "cell_type": "markdown",
   "metadata": {
    "id": "yGPES8NS75ue"
   },
   "source": [
    "Vemos que, por mucha diferencia, la variable *indice_desarrollo_ciudad* es la variable más importante para el modelo. Esto pone de manifiesto que la decisión tomada en el notebook *Data_Exploration* era certera: entre las dos variables que hacen referencia a la ciudad (que son las que mayor correlación tienen con la variable objetivo), la que indica el índice de desarrollo aporta una información adicional que la hace más interesante. \n",
    "\n",
    "Y sabemos que vamos a eliminar la variable *ciudad*, pero por razones ilustrativas, de momento la vamos a mantener, y la que no vamos a mostrar es *indice_desarrollo_ciudad*, para tratar de mantener el resto de variables en un mismo orden de magnitud en cuanto a importancia y que sea más fácilmente interpretable la información.\n",
    "\n",
    "Si ahora volvemos a comprobar lo mismo sin emplear dicha variable:"
   ]
  },
  {
   "cell_type": "code",
   "execution_count": 17,
   "metadata": {
    "colab": {
     "base_uri": "https://localhost:8080/",
     "height": 489
    },
    "id": "_vG4L7Yq9-sM",
    "outputId": "2ae5d2ca-0dd3-4d5f-aaf2-6008ace59f9d"
   },
   "outputs": [
    {
     "name": "stdout",
     "output_type": "stream",
     "text": [
      "Feature ranking:\n",
      "1. feature 1 (ciudad): 1227.794152\n",
      "2. feature 0 (horas_formacion): 170.743027\n",
      "3. feature 3 (experiencia_relevante): 163.755148\n",
      "4. feature 5 (nivel_educacion): 135.684527\n",
      "5. feature 4 (universidad_matriculado): 118.802049\n",
      "6. feature 8 (tamano_compania): 25.929702\n",
      "7. feature 10 (ultimo_nuevo_trabajo): 21.460701\n",
      "8. feature 9 (tipo_compania): 18.804182\n",
      "9. feature 7 (experiencia): 6.114468\n",
      "10. feature 6 (educacion): 0.356147\n",
      "11. feature 2 (genero): 0.069365\n"
     ]
    },
    {
     "data": {
      "image/png": "[encoded data removed]",
      "text/plain": [
       "<Figure size 432x288 with 1 Axes>"
      ]
     },
     "metadata": {
      "needs_background": "light",
      "tags": []
     },
     "output_type": "display_data"
    }
   ],
   "source": [
    "X, y = preprocess_for_FI(data.drop('indice_desarrollo_ciudad', axis=1))\n",
    "feature_importances(X, y)"
   ]
  },
  {
   "cell_type": "markdown",
   "metadata": {
    "id": "RZihGSvEDGU5"
   },
   "source": [
    "Las siguientes variables en orden de importancia son *horas_formacion* (la otra variable numérica), *experiencia_relevante*, *nivel_educacion* y *universidad_matriculado*. A excepción de *horas_formacion*, que tiene una correlación de 0 con la variable objetivo, las demás son las que mayor correlación presentan con la variable *target* (después de las variables de ciudad, claro). Sin embargo, sí se echa en falta otra variable que presenta una alta correlación con la variable objetivo, pero que sin embargo aquí no parece tener casi ningún tipo de impacto (*experiencia*). \n",
    "\n",
    "Además, las variables *educacion* y *genero* parecen no aportar ningún tipo de información relevante y, por tanto, se debe tomar alguna acción con ellas: pueden o bien eliminarse directamente, o bien emplearse para crear variables nuevas."
   ]
  },
  {
   "cell_type": "markdown",
   "metadata": {
    "id": "Os7y7pQzE4Jp"
   },
   "source": [
    "## 2. Creación de nuevas variables\n",
    "\n",
    "Vamos a emplear las conclusiones obtenidas para tratar de generar nuevas features que aporten mayor calidad al conjunto de datos.\n",
    "\n",
    "Antes de nada, vamos a rescatar la función *cramers_v* del notebook *Data_Exploration*, para medir la correlación de las nuevas variables."
   ]
  },
  {
   "cell_type": "code",
   "execution_count": 7,
   "metadata": {
    "id": "02uiVI40HUs3"
   },
   "outputs": [],
   "source": [
    "import scipy.stats as ss\n",
    "def cramers_v(x, y):\n",
    "    confusion_matrix = pd.crosstab(x,y)\n",
    "    chi2 = ss.chi2_contingency(confusion_matrix)[0]\n",
    "    n = confusion_matrix.sum().sum()\n",
    "    phi2 = chi2/n\n",
    "    r,k = confusion_matrix.shape\n",
    "    phi2corr = max(0, phi2-((k-1)*(r-1))/(n-1))\n",
    "    rcorr = r-((r-1)**2)/(n-1)\n",
    "    kcorr = k-((k-1)**2)/(n-1)\n",
    "    return np.sqrt(phi2corr/min((kcorr-1),(rcorr-1)))"
   ]
  },
  {
   "cell_type": "code",
   "execution_count": 8,
   "metadata": {
    "id": "qXAlkjL2F5-m"
   },
   "outputs": [],
   "source": [
    "data1 = data.copy()"
   ]
  },
  {
   "cell_type": "markdown",
   "metadata": {
    "id": "HhfD3ry2FQtz"
   },
   "source": [
    "### 2.1 Bucketización de la experiencia\n",
    "\n",
    "Como hemos visto, la variable experiencia no aporta apenas info al modelo, pero sí hemos visto que es una de las variables que mayor correlación presenta con la variable *target*. Vamos por tanto a tratar de paquetizar su información, creando categorías que puedan ser relevantes. Por ejemplo, podemos probar a agrupar la experiencia en <1, <5, <10, <20 y >20"
   ]
  },
  {
   "cell_type": "code",
   "execution_count": 150,
   "metadata": {
    "id": "zWEmCxTO2lVI"
   },
   "outputs": [],
   "source": [
    "data1['experiencia_str'] = data1.experiencia.apply(lambda x: str(x))"
   ]
  },
  {
   "cell_type": "code",
   "execution_count": 151,
   "metadata": {
    "colab": {
     "base_uri": "https://localhost:8080/"
    },
    "id": "p4qJIRJC2lVJ",
    "outputId": "1e5fad73-c9d8-4e5e-a1f1-bda017b635cd"
   },
   "outputs": [
    {
     "data": {
      "text/plain": [
       "array(['1', '10', '11', '12', '13', '14', '15', '16', '17', '18', '19',\n",
       "       '2', '20', '3', '4', '5', '6', '7', '8', '9', '<1', '>20', 'nan'],\n",
       "      dtype=object)"
      ]
     },
     "execution_count": 151,
     "metadata": {
      "tags": []
     },
     "output_type": "execute_result"
    }
   ],
   "source": [
    "np.unique(data1['experiencia_str'])"
   ]
  },
  {
   "cell_type": "code",
   "execution_count": 26,
   "metadata": {
    "id": "Fw_K6kqt2lVJ"
   },
   "outputs": [],
   "source": [
    "def buckets_experiencia(x):\n",
    "    try:\n",
    "        x = int(x)\n",
    "    \n",
    "        # if x <= 3 or x == '<1':\n",
    "        #     return '<3'\n",
    "        # if x <= 5: \n",
    "        #     return '<5'\n",
    "        if x <= 10:\n",
    "            return '<10'\n",
    "#         elif x >= 15:\n",
    "#             return '<15'\n",
    "        elif x <= 20:\n",
    "            return '<20'\n",
    "        # elif x > 15 or x == '>20':\n",
    "        #   return '>15'\n",
    "    except:\n",
    "        if x == 'nan':\n",
    "            return np.nan\n",
    "        return x\n",
    "        "
   ]
  },
  {
   "cell_type": "code",
   "execution_count": 27,
   "metadata": {
    "id": "FLf-V7Lw2lVK"
   },
   "outputs": [],
   "source": [
    "data1['experiencia_str'] = data1.experiencia.apply(buckets_experiencia)"
   ]
  },
  {
   "cell_type": "code",
   "execution_count": 42,
   "metadata": {
    "colab": {
     "base_uri": "https://localhost:8080/"
    },
    "id": "POTTlE7l2lVK",
    "outputId": "b67b95d2-45e2-4ddb-ed07-51ca1d432c1b"
   },
   "outputs": [
    {
     "data": {
      "text/plain": [
       "0        >20\n",
       "1        <20\n",
       "2        <10\n",
       "3         <1\n",
       "4        >20\n",
       "        ... \n",
       "19153    <20\n",
       "19154    <20\n",
       "19155    >20\n",
       "19156     <1\n",
       "19157    <10\n",
       "Name: experiencia_str, Length: 19158, dtype: object"
      ]
     },
     "execution_count": 42,
     "metadata": {
      "tags": []
     },
     "output_type": "execute_result"
    }
   ],
   "source": [
    "data.experiencia_str"
   ]
  },
  {
   "cell_type": "code",
   "execution_count": 21,
   "metadata": {
    "colab": {
     "base_uri": "https://localhost:8080/",
     "height": 283
    },
    "id": "X9PMIUaA2lVK",
    "outputId": "eac94e14-3939-4ab0-fcca-cd45ca8a56d3"
   },
   "outputs": [
    {
     "data": {
      "text/plain": [
       "<matplotlib.axes._subplots.AxesSubplot at 0x7f6eeee809d0>"
      ]
     },
     "execution_count": 21,
     "metadata": {
      "tags": []
     },
     "output_type": "execute_result"
    },
    {
     "data": {
      "image/png": "[encoded data removed]",
      "text/plain": [
       "<Figure size 432x288 with 1 Axes>"
      ]
     },
     "metadata": {
      "needs_background": "light",
      "tags": []
     },
     "output_type": "display_data"
    }
   ],
   "source": [
    "data1.experiencia_str.hist()"
   ]
  },
  {
   "cell_type": "markdown",
   "metadata": {
    "id": "X_UMTaruGSMJ"
   },
   "source": [
    "Vemos que se han generado buckets relativamente homogéneos en cuanto a cantidad de observaciones, a excepción del bucket *<1*, aunque a priori se puede pensar que es una categoría característica, ya que gente sinexperiencia puede no estar contenta en su primer trabajo y quiera buscar irse."
   ]
  },
  {
   "cell_type": "code",
   "execution_count": 51,
   "metadata": {
    "colab": {
     "base_uri": "https://localhost:8080/"
    },
    "id": "OohX3g-42lVL",
    "outputId": "922ea7b0-5012-40f8-a21c-07467c5fe519"
   },
   "outputs": [
    {
     "data": {
      "text/plain": [
       "0.17695271938344684"
      ]
     },
     "execution_count": 51,
     "metadata": {
      "tags": []
     },
     "output_type": "execute_result"
    }
   ],
   "source": [
    "cramers_v(data1['target'], data1['experiencia_str'])"
   ]
  },
  {
   "cell_type": "markdown",
   "metadata": {
    "id": "VXWL3ZC8HkIX"
   },
   "source": [
    "En cuanto a correlación, vemos que no mejora frente a la variable original, aunque habrá que esperar a ver que pasa con la importancia."
   ]
  },
  {
   "cell_type": "markdown",
   "metadata": {
    "id": "v3zRRgq-HuUx"
   },
   "source": [
    "### 2.2 Bucketización del tipo de compañía\n",
    "\n",
    "Una de las cosas que se observan en esta variable, es que *Pvt Ltd* es el tipo preponderante, y el resto de compañías aparecen de manera casi residual. Por tanto, una de las opciones pasa por empaquetar todo el resto de compañías en la categoría *otros*:"
   ]
  },
  {
   "cell_type": "code",
   "execution_count": 24,
   "metadata": {
    "colab": {
     "base_uri": "https://localhost:8080/"
    },
    "id": "P0xDMZHn2lVL",
    "outputId": "d333b269-2b0b-40dc-86b5-2efeba141087"
   },
   "outputs": [
    {
     "data": {
      "text/plain": [
       "array(['Early Stage Startup', 'Funded Startup', 'NGO', 'Other',\n",
       "       'Public Sector', 'Pvt Ltd', 'nan'], dtype=object)"
      ]
     },
     "execution_count": 24,
     "metadata": {
      "tags": []
     },
     "output_type": "execute_result"
    }
   ],
   "source": [
    "data1['t_c'] = data1.tipo_compania.apply(lambda x: str(x))\n",
    "np.unique(data1['t_c'])"
   ]
  },
  {
   "cell_type": "code",
   "execution_count": 25,
   "metadata": {
    "id": "jvCB4MCl2lVL"
   },
   "outputs": [],
   "source": [
    "def buckets_tipo_compania(x):\n",
    "    if x != 'nan' and x != 'Pvt Ltd':\n",
    "        return 'Otros'\n",
    "    elif x == 'nan':\n",
    "        return np.nan\n",
    "    return x\n",
    "        "
   ]
  },
  {
   "cell_type": "code",
   "execution_count": 155,
   "metadata": {
    "id": "DIwMynuw2lVM"
   },
   "outputs": [],
   "source": [
    "data1['t_c'] = data1['t_c'].apply(buckets_tipo_compania)"
   ]
  },
  {
   "cell_type": "code",
   "execution_count": 27,
   "metadata": {
    "colab": {
     "base_uri": "https://localhost:8080/"
    },
    "id": "5_-hot172lVM",
    "outputId": "996d5d3d-abec-4c4b-ab57-8932e2fb009d"
   },
   "outputs": [
    {
     "data": {
      "text/plain": [
       "0            NaN\n",
       "1        Pvt Ltd\n",
       "2            NaN\n",
       "3        Pvt Ltd\n",
       "4          Otros\n",
       "          ...   \n",
       "19153        NaN\n",
       "19154        NaN\n",
       "19155    Pvt Ltd\n",
       "19156    Pvt Ltd\n",
       "19157        NaN\n",
       "Name: t_c, Length: 19158, dtype: object"
      ]
     },
     "execution_count": 27,
     "metadata": {
      "tags": []
     },
     "output_type": "execute_result"
    }
   ],
   "source": [
    "data1['t_c']"
   ]
  },
  {
   "cell_type": "code",
   "execution_count": 28,
   "metadata": {
    "colab": {
     "base_uri": "https://localhost:8080/",
     "height": 283
    },
    "id": "Co_26BIA2lVM",
    "outputId": "6b1bb794-5db5-47a6-e463-0446410bb403"
   },
   "outputs": [
    {
     "data": {
      "text/plain": [
       "<matplotlib.axes._subplots.AxesSubplot at 0x7f6ece68ac10>"
      ]
     },
     "execution_count": 28,
     "metadata": {
      "tags": []
     },
     "output_type": "execute_result"
    },
    {
     "data": {
      "image/png": "[encoded data removed]",
      "text/plain": [
       "<Figure size 432x288 with 1 Axes>"
      ]
     },
     "metadata": {
      "needs_background": "light",
      "tags": []
     },
     "output_type": "display_data"
    }
   ],
   "source": [
    "data1['t_c'].hist()"
   ]
  },
  {
   "cell_type": "code",
   "execution_count": 29,
   "metadata": {
    "colab": {
     "base_uri": "https://localhost:8080/"
    },
    "id": "9s1b_LLsINHm",
    "outputId": "f6d30635-a546-4b01-ae3c-985e204a5658"
   },
   "outputs": [
    {
     "data": {
      "text/plain": [
       "0.010129522319859611"
      ]
     },
     "execution_count": 29,
     "metadata": {
      "tags": []
     },
     "output_type": "execute_result"
    }
   ],
   "source": [
    "cramers_v(data1['t_c'], data['target'])"
   ]
  },
  {
   "cell_type": "markdown",
   "metadata": {
    "id": "MdfEw2_wITw8"
   },
   "source": [
    "En términos de correlación, vemos que disminuye bastante (de 0.048 a 0.01), por lo que no parece que esta empaquetización vaya a resultar muy efectiva."
   ]
  },
  {
   "cell_type": "markdown",
   "metadata": {
    "id": "t9khpvPCIqex"
   },
   "source": [
    "### 2.3 Bucketización del tamaño de compañía\n",
    "\n",
    "Hay 8 tipos de compañía diferente en función de su tamaño. Podemos agruparlas más, de modo que solo haya empresas pequeñas, medianas o grandes:"
   ]
  },
  {
   "cell_type": "code",
   "execution_count": 156,
   "metadata": {
    "id": "7cj0YQ1R2lVN"
   },
   "outputs": [],
   "source": [
    "data1['tam_c'] = data1.tamano_compania.apply(lambda x: str(x))\n",
    "# print(data['tam_c'].value_counts())\n",
    "# np.unique(data['tam_c'])"
   ]
  },
  {
   "cell_type": "markdown",
   "metadata": {
    "id": "IZTehhujITHd"
   },
   "source": []
  },
  {
   "cell_type": "code",
   "execution_count": 157,
   "metadata": {
    "colab": {
     "base_uri": "https://localhost:8080/",
     "height": 283
    },
    "id": "aQy2iGwl2lVO",
    "outputId": "d94e0cd6-4ae3-4bcb-840f-a994699fb208"
   },
   "outputs": [
    {
     "name": "stdout",
     "output_type": "stream",
     "text": [
      "0.053989227373892335\n"
     ]
    },
    {
     "data": {
      "image/png": "[encoded data removed]",
      "text/plain": [
       "<Figure size 432x288 with 1 Axes>"
      ]
     },
     "metadata": {
      "needs_background": "light",
      "tags": []
     },
     "output_type": "display_data"
    }
   ],
   "source": [
    "data1['tam_c'] = data1.tamano_compania.apply(lambda x: str(x))\n",
    "def buckets_tam_compania(x):\n",
    "    tam_c = {'<10': 'S', '10/49': 'S',\n",
    "             '50-99': 'M', '100-500': 'M', \n",
    "             '500-999': 'M', '1000-4999': 'L', \n",
    "             '5000-9999': 'L', '10000+': 'L'}\n",
    "    \n",
    "    if x != 'nan':\n",
    "        return tam_c[x]\n",
    "    else:\n",
    "        return np.nan\n",
    "    \n",
    "\n",
    "data1['tam_c'] = data1['tam_c'].apply(buckets_tam_compania)\n",
    "data1['tam_c'].hist()\n",
    "print(cramers_v(data1['tamano_compania'], data1['target']))"
   ]
  },
  {
   "cell_type": "markdown",
   "metadata": {
    "id": "R_hg9X3QJLqB"
   },
   "source": [
    "Vemos de nuevo que se tiene una correlación muy similar a la de la variable original. Esto puede ser bueno ya que aunque la variable nueva no mejore a la original, al menos se disminuye el número de variables para conseguir el mismo efecto."
   ]
  },
  {
   "cell_type": "markdown",
   "metadata": {
    "id": "O5UYae-xJlZc"
   },
   "source": [
    "### 2.4 Unión de experiencia con experiencia relevante\n",
    "\n",
    "Una de las opciones que pueden ser interesantes es la de crear una nueva variable que combine la experiencia con la experiencia relevante. Esto significa que a partir de la variable experiencia *<10* años, surgirían dos variables: *<10 con experiencia relevante* y *<10 sin experiencia relevante*."
   ]
  },
  {
   "cell_type": "code",
   "execution_count": 33,
   "metadata": {
    "colab": {
     "base_uri": "https://localhost:8080/",
     "height": 283
    },
    "id": "LIXP6nIL2lVP",
    "outputId": "846f3563-8085-4e90-9a10-c4f0f2f50fcd"
   },
   "outputs": [
    {
     "data": {
      "text/plain": [
       "<matplotlib.axes._subplots.AxesSubplot at 0x7f6ecd539290>"
      ]
     },
     "execution_count": 33,
     "metadata": {
      "tags": []
     },
     "output_type": "execute_result"
    },
    {
     "data": {
      "image/png": "[encoded data removed]",
      "text/plain": [
       "<Figure size 432x288 with 1 Axes>"
      ]
     },
     "metadata": {
      "needs_background": "light",
      "tags": []
     },
     "output_type": "display_data"
    }
   ],
   "source": [
    "data1['experiencia_relevante'].hist()"
   ]
  },
  {
   "cell_type": "code",
   "execution_count": 239,
   "metadata": {
    "id": "9M1mv5EM2lVU"
   },
   "outputs": [],
   "source": [
    "# Función que combina buckets (combina dos columnas)\n",
    "def combine_buckets(x1, x2):\n",
    "    \n",
    "    if str(x1) != 'nan' and str(x2) != 'nan':\n",
    "        #Cogemos solo la primera palabra de cada variable para que no sea tan larga\n",
    "        return str(x1).split(' ')[0] + '_' + str(x2).split(' ')[0] \n",
    "    else: \n",
    "        return np.nan\n",
    "    return x1"
   ]
  },
  {
   "cell_type": "code",
   "execution_count": 28,
   "metadata": {
    "id": "nkurWxkH2lVU",
    "scrolled": true
   },
   "outputs": [],
   "source": [
    "data1['exp_rel-exp'] = data1.apply(lambda x: combine_buckets(x.experiencia_str, x.experiencia_relevante), axis=1)"
   ]
  },
  {
   "cell_type": "code",
   "execution_count": 29,
   "metadata": {
    "colab": {
     "base_uri": "https://localhost:8080/"
    },
    "id": "ggCf2ZA0S5Wa",
    "outputId": "f62620f3-b68a-45fa-ea7f-d5ef9a4d86c4"
   },
   "outputs": [
    {
     "data": {
      "text/plain": [
       "<10_Has    6855\n",
       "<10_No     4019\n",
       "<20_Has    3846\n",
       ">20_Has    2883\n",
       "<20_No      565\n",
       ">20_No      403\n",
       "<1_No       358\n",
       "<1_Has      164\n",
       "Name: exp_rel-exp, dtype: int64"
      ]
     },
     "execution_count": 29,
     "metadata": {
      "tags": []
     },
     "output_type": "execute_result"
    }
   ],
   "source": [
    "data1['exp_rel-exp'].value_counts()"
   ]
  },
  {
   "cell_type": "code",
   "execution_count": 245,
   "metadata": {
    "colab": {
     "base_uri": "https://localhost:8080/",
     "height": 283
    },
    "id": "XFL-P8In2lVV",
    "outputId": "d81401f9-a6a9-4f21-fee7-efaf8da4c474"
   },
   "outputs": [
    {
     "data": {
      "text/plain": [
       "<matplotlib.axes._subplots.AxesSubplot at 0x7f6ec74c9090>"
      ]
     },
     "execution_count": 245,
     "metadata": {
      "tags": []
     },
     "output_type": "execute_result"
    },
    {
     "data": {
      "image/png": "[encoded data removed]",
      "text/plain": [
       "<Figure size 432x288 with 1 Axes>"
      ]
     },
     "metadata": {
      "needs_background": "light",
      "tags": []
     },
     "output_type": "display_data"
    }
   ],
   "source": [
    "data1['exp_rel-exp'].hist()"
   ]
  },
  {
   "cell_type": "code",
   "execution_count": 246,
   "metadata": {
    "colab": {
     "base_uri": "https://localhost:8080/"
    },
    "id": "NYM2lQ9n2lVV",
    "outputId": "bcd08527-a372-43c5-9e0c-47b49056dfb7"
   },
   "outputs": [
    {
     "data": {
      "text/plain": [
       "0.18604545338685705"
      ]
     },
     "execution_count": 246,
     "metadata": {
      "tags": []
     },
     "output_type": "execute_result"
    }
   ],
   "source": [
    "cramers_v(data1['exp_rel-exp'], data1['target'])"
   ]
  },
  {
   "cell_type": "markdown",
   "metadata": {
    "id": "Yuw2NM9qKYk7"
   },
   "source": [
    "Vemos que esta variable sí mejora un poco a las otras dos individualmente en cuanto a correlación."
   ]
  },
  {
   "cell_type": "markdown",
   "metadata": {
    "id": "9y7jxk3OKotc"
   },
   "source": [
    "Antes de continuar extrayendo nuevas variables, vamos a comprobar de nuevo la feature importance de todas las variables, para ver si hemos conseguido algo o no:"
   ]
  },
  {
   "cell_type": "code",
   "execution_count": 247,
   "metadata": {
    "colab": {
     "base_uri": "https://localhost:8080/",
     "height": 576
    },
    "id": "xkZCvOotK0Kd",
    "outputId": "48a33b1f-916c-4fb6-b167-4a782acd659f"
   },
   "outputs": [
    {
     "name": "stdout",
     "output_type": "stream",
     "text": [
      "Feature ranking:\n",
      "1. feature 1 (ciudad): 1227.794152\n",
      "2. feature 14 (exp_rel-exp): 487.588986\n",
      "3. feature 0 (horas_formacion): 170.743027\n",
      "4. feature 3 (experiencia_relevante): 163.755148\n",
      "5. feature 5 (nivel_educacion): 135.684527\n",
      "6. feature 11 (experiencia_str): 133.712616\n",
      "7. feature 15 (uni_rel-exp): 124.111812\n",
      "8. feature 4 (universidad_matriculado): 118.802049\n",
      "9. feature 8 (tamano_compania): 25.929702\n",
      "10. feature 10 (ultimo_nuevo_trabajo): 21.460701\n",
      "11. feature 9 (tipo_compania): 18.804182\n",
      "12. feature 12 (t_c): 8.872551\n",
      "13. feature 7 (experiencia): 6.114468\n",
      "14. feature 13 (tam_c): 3.189906\n",
      "15. feature 6 (educacion): 0.356147\n",
      "16. feature 2 (genero): 0.069365\n"
     ]
    },
    {
     "data": {
      "image/png": "[encoded data removed]",
      "text/plain": [
       "<Figure size 432x288 with 1 Axes>"
      ]
     },
     "metadata": {
      "needs_background": "light",
      "tags": []
     },
     "output_type": "display_data"
    }
   ],
   "source": [
    "X, y = preprocess_for_FI(data1.drop(columns='indice_desarrollo_ciudad'))\n",
    "feature_importances(X, y)"
   ]
  },
  {
   "cell_type": "markdown",
   "metadata": {
    "id": "4le4D-mELfaj"
   },
   "source": [
    "Como vemos, la nueva variable *exp-exp_rel*, que combina la experiencia con la experiencia relevante, tiene una importancia 5 veces superior a la de la variable *experiencia_relevante*. También el hecho de bucketizar la experiencia hace que esta sea mucho más importante. En este aspecto, cabe mencionar que si la experiencia se empaqueta en las categorías [<1, <5, <10, <20, >20], apenas se obtiene mejora, pero empaquetando en [<1, <10, <20, >20] se logra la mejora aquí mostrada. Esto nos hace ver que puede existir mucho juego, y que es importante elegir bien los límites para que el futuro modelo sea lo mejor posible. Haciendo varias pruebas, estas son las importancias que se han obtenido:\n",
    "\n",
    "- [<1, <5, <10, <20, >20]: 44.23\n",
    "- [<1, <10, <20, >20]: 807.26\n",
    "- [<3, <10, <20, >20]: 206.52\n",
    "- [<1, <8, <20, >20]: 810.58\n",
    "- [<1, <5, <15, >15]: 755.66\n",
    "\n",
    "Como vemos, el mejor resultado se obtiene con una categorización de la experiencia en [<1, <8, <20, >20].\n",
    "\n",
    "Lo que mejores resultados ha dado hasta ahora ha sido la unión de dos variables. Vamos a seguir probando a hacer esto con otras variables, a ver que pasa:"
   ]
  },
  {
   "cell_type": "markdown",
   "metadata": {
    "id": "nCHMliqrQd86"
   },
   "source": [
    "### 2.5 Unión de experiencia relevante con universidad matriculado"
   ]
  },
  {
   "cell_type": "code",
   "execution_count": 79,
   "metadata": {
    "colab": {
     "base_uri": "https://localhost:8080/",
     "height": 283
    },
    "id": "G4RNEtTAR4zr",
    "outputId": "35786b51-a9df-4f02-fd74-2148b4740eae"
   },
   "outputs": [
    {
     "data": {
      "text/plain": [
       "<matplotlib.axes._subplots.AxesSubplot at 0x7f6ecf062890>"
      ]
     },
     "execution_count": 79,
     "metadata": {
      "tags": []
     },
     "output_type": "execute_result"
    },
    {
     "data": {
      "image/png": "[encoded data removed]",
      "text/plain": [
       "<Figure size 432x288 with 1 Axes>"
      ]
     },
     "metadata": {
      "needs_background": "light",
      "tags": []
     },
     "output_type": "display_data"
    }
   ],
   "source": [
    "data1.universidad_matriculado.hist()"
   ]
  },
  {
   "cell_type": "code",
   "execution_count": 257,
   "metadata": {
    "colab": {
     "base_uri": "https://localhost:8080/"
    },
    "id": "2t9dobjPRIoH",
    "outputId": "3035a9e8-187f-4af2-a02a-84f526c50391"
   },
   "outputs": [
    {
     "data": {
      "text/plain": [
       "0.1738868260025442"
      ]
     },
     "execution_count": 257,
     "metadata": {
      "tags": []
     },
     "output_type": "execute_result"
    }
   ],
   "source": [
    "data1['uni_rel-exp'] = data1.apply(lambda x: combine_buckets(x.universidad_matriculado, x.experiencia_relevante), axis=1)\n",
    "cramers_v(data1['uni_rel-exp'], data1['target'])"
   ]
  },
  {
   "cell_type": "markdown",
   "metadata": {
    "id": "oBuwehubRpnU"
   },
   "source": [
    "### 2.6 Unión de experiencia con universidad matriculado\n",
    "\n",
    "Del mismo modo que antes, vamos a probar a unir los años de experiencia con el hecho de estar matriculado en la universidad o no."
   ]
  },
  {
   "cell_type": "code",
   "execution_count": 248,
   "metadata": {
    "colab": {
     "base_uri": "https://localhost:8080/"
    },
    "id": "7UEgWZ6VSYtr",
    "outputId": "990f9fd3-ace6-4faa-bbf5-c3a6790adf2e"
   },
   "outputs": [
    {
     "data": {
      "text/plain": [
       "0.2002034843806971"
      ]
     },
     "execution_count": 248,
     "metadata": {
      "tags": []
     },
     "output_type": "execute_result"
    }
   ],
   "source": [
    "data1['exp_uni'] = data1.apply(lambda x: combine_buckets(x.experiencia_str, x.universidad_matriculado), axis=1)\n",
    "cramers_v(data1['exp_uni'], data1['target'])"
   ]
  },
  {
   "cell_type": "markdown",
   "metadata": {
    "id": "EptBxyXGSt1O"
   },
   "source": [
    "### 2.7 Unión de experiencia, experiencia relevante y universidad matriculado\n",
    "\n",
    "Vamos a probar ahora a dara un paso más, y unir las tres variables. De este modo, una opción sería tener menos de 10 años de experiencia, que dicha experiencia sea relevante y que además estés matriculado en la universidad a tiempo completo. \n",
    "\n",
    "La justificación de probar con esta variable es que puede ocurrir que si un persona tiene cierta experiencia, se apunte a un máster para mejorar sus conocimientos en cierta área y poder así pedir un ascenso o un cambio de trabajo."
   ]
  },
  {
   "cell_type": "code",
   "execution_count": 249,
   "metadata": {
    "colab": {
     "base_uri": "https://localhost:8080/"
    },
    "id": "OHkLDT4FTPV1",
    "outputId": "059ba1c1-9cc8-4ab0-9640-ed1f5d04a3ac"
   },
   "outputs": [
    {
     "data": {
      "text/plain": [
       "0.20796538759616454"
      ]
     },
     "execution_count": 249,
     "metadata": {
      "tags": []
     },
     "output_type": "execute_result"
    }
   ],
   "source": [
    "data1['exp_rel-exp_uni'] = data1.apply(lambda x: combine_buckets(x.exp_uni, x.experiencia_relevante), axis=1)\n",
    "cramers_v(data1['exp_rel-exp_uni'], data1['target'])"
   ]
  },
  {
   "cell_type": "markdown",
   "metadata": {
    "id": "DDG2uAt64s5S"
   },
   "source": [
    "Vamos a comprobar de nuevo las feature importances con estas tres nuevas variables."
   ]
  },
  {
   "cell_type": "code",
   "execution_count": 250,
   "metadata": {
    "colab": {
     "base_uri": "https://localhost:8080/",
     "height": 611
    },
    "id": "3w7X3VZoRQDB",
    "outputId": "7b978044-c7c7-4c29-b298-652b90ff7fef"
   },
   "outputs": [
    {
     "name": "stdout",
     "output_type": "stream",
     "text": [
      "Feature ranking:\n",
      "1. feature 17 (exp_rel-exp_uni): 2150.284806\n",
      "2. feature 1 (ciudad): 1227.794152\n",
      "3. feature 16 (exp_uni): 1213.484369\n",
      "4. feature 14 (exp_rel-exp): 487.588986\n",
      "5. feature 0 (horas_formacion): 170.743027\n",
      "6. feature 3 (experiencia_relevante): 163.755148\n",
      "7. feature 5 (nivel_educacion): 135.684527\n",
      "8. feature 11 (experiencia_str): 133.712616\n",
      "9. feature 15 (uni_rel-exp): 124.111812\n",
      "10. feature 4 (universidad_matriculado): 118.802049\n",
      "11. feature 8 (tamano_compania): 25.929702\n",
      "12. feature 10 (ultimo_nuevo_trabajo): 21.460701\n",
      "13. feature 9 (tipo_compania): 18.804182\n",
      "14. feature 12 (t_c): 8.872551\n",
      "15. feature 7 (experiencia): 6.114468\n",
      "16. feature 13 (tam_c): 3.189906\n",
      "17. feature 6 (educacion): 0.356147\n",
      "18. feature 2 (genero): 0.069365\n"
     ]
    },
    {
     "data": {
      "image/png": "[encoded data removed]",
      "text/plain": [
       "<Figure size 432x288 with 1 Axes>"
      ]
     },
     "metadata": {
      "needs_background": "light",
      "tags": []
     },
     "output_type": "display_data"
    }
   ],
   "source": [
    "X, y = preprocess_for_FI(data1.drop(columns='indice_desarrollo_ciudad'))\n",
    "feature_importances(X, y)"
   ]
  },
  {
   "cell_type": "markdown",
   "metadata": {
    "id": "j7Nq2GEPT6DR"
   },
   "source": [
    "Se aprecia que esta última variable (combinación de experiencia con experiencia relevante y estar matriculado en la universidad, es la variable más importante ahora con una importancia de 2326.86. Además, la unión de experiencia con universidad también logra una muy buena variable, aunque la unión entre experiencia relevante y universidad matriculado no tanto."
   ]
  },
  {
   "cell_type": "markdown",
   "metadata": {
    "id": "ILyW2mjm5C9Z"
   },
   "source": [
    "### 2.8 Unión de tamaño de compañia con experiencia"
   ]
  },
  {
   "cell_type": "code",
   "execution_count": 258,
   "metadata": {
    "colab": {
     "base_uri": "https://localhost:8080/"
    },
    "id": "X1jUcL7n6X6v",
    "outputId": "486be9e9-bdcd-44f7-87de-0b0a55da2cf0"
   },
   "outputs": [
    {
     "data": {
      "text/plain": [
       "0.1901662222985369"
      ]
     },
     "execution_count": 258,
     "metadata": {
      "tags": []
     },
     "output_type": "execute_result"
    }
   ],
   "source": [
    "data1['exp_tam'] = data1.apply(lambda x: combine_buckets(x.experiencia_str, x.tam_c), axis=1)\n",
    "cramers_v(data1['target'], data1['exp_tam'])"
   ]
  },
  {
   "cell_type": "markdown",
   "metadata": {
    "id": "y5eReHWL8TIs"
   },
   "source": [
    "### 2.9 Unión tamaño de compañía con ultimo nuevo trabajo"
   ]
  },
  {
   "cell_type": "code",
   "execution_count": 254,
   "metadata": {
    "id": "VhJQyyf_8bNz"
   },
   "outputs": [],
   "source": [
    "data1['ult_tam'] = data1.apply(lambda x: combine_buckets(x.ultimo_nuevo_trabajo, x.tam_c), axis=1)"
   ]
  },
  {
   "cell_type": "code",
   "execution_count": 255,
   "metadata": {
    "colab": {
     "base_uri": "https://localhost:8080/"
    },
    "id": "G05zvpEr8mJY",
    "outputId": "1fec75fc-1a7e-4604-b881-ec348b3b8d51"
   },
   "outputs": [
    {
     "data": {
      "text/plain": [
       "array(['1_L', '1_M', '1_S', '2_L', '2_M', '2_S', '3_L', '3_M', '3_S',\n",
       "       '4_L', '4_M', '4_S', '>4_L', '>4_M', '>4_S', 'nan', 'never_L',\n",
       "       'never_M', 'never_S'], dtype=object)"
      ]
     },
     "execution_count": 255,
     "metadata": {
      "tags": []
     },
     "output_type": "execute_result"
    }
   ],
   "source": [
    "np.unique(data1['ult_tam'].apply(lambda x: str(x)))"
   ]
  },
  {
   "cell_type": "code",
   "execution_count": 256,
   "metadata": {
    "colab": {
     "base_uri": "https://localhost:8080/",
     "height": 663
    },
    "id": "MwZr5TmB6mV1",
    "outputId": "4c209f3f-3179-443a-e592-22906b580c20"
   },
   "outputs": [
    {
     "name": "stdout",
     "output_type": "stream",
     "text": [
      "Feature ranking:\n",
      "1. feature 0 (indice_desarrollo_ciudad): 20049.376856\n",
      "2. feature 18 (exp_rel-exp_uni): 2150.284806\n",
      "3. feature 19 (exp_tam): 2124.030116\n",
      "4. feature 20 (ult_tam): 1416.597109\n",
      "5. feature 2 (ciudad): 1227.794152\n",
      "6. feature 17 (exp_uni): 1213.484369\n",
      "7. feature 15 (exp_rel-exp): 487.588986\n",
      "8. feature 1 (horas_formacion): 170.743027\n",
      "9. feature 4 (experiencia_relevante): 163.755148\n",
      "10. feature 6 (nivel_educacion): 135.684527\n",
      "11. feature 12 (experiencia_str): 133.712616\n",
      "12. feature 16 (uni_rel-exp): 124.111812\n",
      "13. feature 5 (universidad_matriculado): 118.802049\n",
      "14. feature 9 (tamano_compania): 25.929702\n",
      "15. feature 11 (ultimo_nuevo_trabajo): 21.460701\n",
      "16. feature 10 (tipo_compania): 18.804182\n",
      "17. feature 13 (t_c): 8.872551\n",
      "18. feature 8 (experiencia): 6.114468\n",
      "19. feature 14 (tam_c): 3.189906\n",
      "20. feature 7 (educacion): 0.356147\n",
      "21. feature 3 (genero): 0.069365\n"
     ]
    },
    {
     "data": {
      "image/png": "[encoded data removed]",
      "text/plain": [
       "<Figure size 432x288 with 1 Axes>"
      ]
     },
     "metadata": {
      "needs_background": "light",
      "tags": []
     },
     "output_type": "display_data"
    }
   ],
   "source": [
    "X, y = preprocess_for_FI(data1)\n",
    "feature_importances(X, y)"
   ]
  },
  {
   "cell_type": "markdown",
   "metadata": {
    "id": "H1MFtUadbnE0"
   },
   "source": [
    "### 2.10 Unión de último trabajo, tamaño compañía y universidad matriculado"
   ]
  },
  {
   "cell_type": "code",
   "execution_count": 105,
   "metadata": {
    "id": "mUN8vfJA6pGp"
   },
   "outputs": [],
   "source": [
    "data1['ult_tam_uni'] = data1.apply(lambda x: bucket_u_re(x.ult_tam, x.universidad_matriculado), axis=1)"
   ]
  },
  {
   "cell_type": "code",
   "execution_count": 106,
   "metadata": {
    "colab": {
     "base_uri": "https://localhost:8080/",
     "height": 283
    },
    "id": "ARVjT-tB9XVl",
    "outputId": "85d2c9c1-bd99-4920-a3e5-efbc51fbaa5a"
   },
   "outputs": [
    {
     "data": {
      "text/plain": [
       "<matplotlib.axes._subplots.AxesSubplot at 0x7f6ec88b7550>"
      ]
     },
     "execution_count": 106,
     "metadata": {
      "tags": []
     },
     "output_type": "execute_result"
    },
    {
     "data": {
      "image/png": "[encoded data removed]",
      "text/plain": [
       "<Figure size 432x288 with 1 Axes>"
      ]
     },
     "metadata": {
      "needs_background": "light",
      "tags": []
     },
     "output_type": "display_data"
    }
   ],
   "source": [
    "data1['ult_tam_uni'].hist()"
   ]
  },
  {
   "cell_type": "markdown",
   "metadata": {
    "id": "Q1v2aKXvb2VX"
   },
   "source": [
    "### 2.11 Unión de buckets de id ciudad con nivel de educación"
   ]
  },
  {
   "cell_type": "code",
   "execution_count": 260,
   "metadata": {
    "id": "Ihsxn4cIBBZa"
   },
   "outputs": [],
   "source": [
    "def id_ciudad(x):\n",
    "    if x<0.5:\n",
    "        return '<0.5'\n",
    "    elif x<0.6:\n",
    "        return '<0.6'\n",
    "    elif x<0.7:\n",
    "        return '<0.7'\n",
    "    elif x<0.8:\n",
    "        return '<0.8'\n",
    "    elif x<0.9:\n",
    "        return '<0.9'\n",
    "    else:\n",
    "        return '<1'"
   ]
  },
  {
   "cell_type": "code",
   "execution_count": 261,
   "metadata": {
    "id": "atWvUu1xB_5m"
   },
   "outputs": [],
   "source": [
    "data1['id_ciudad'] = data1.indice_desarrollo_ciudad.apply(id_ciudad)\n",
    "data1['ciudad_edu'] = data1.apply(lambda x: combine_buckets(x.id_ciudad, x.nivel_educacion), axis=1)"
   ]
  },
  {
   "cell_type": "code",
   "execution_count": 263,
   "metadata": {
    "colab": {
     "base_uri": "https://localhost:8080/",
     "height": 697
    },
    "id": "WSLz-6OccGms",
    "outputId": "01074199-043a-4cf1-8322-f3538f5177f5"
   },
   "outputs": [
    {
     "name": "stdout",
     "output_type": "stream",
     "text": [
      "Feature ranking:\n",
      "1. feature 0 (indice_desarrollo_ciudad): 20049.376856\n",
      "2. feature 22 (ciudad_edu): 2857.829205\n",
      "3. feature 18 (exp_rel-exp_uni): 2150.284806\n",
      "4. feature 19 (exp_tam): 2124.030116\n",
      "5. feature 20 (ult_tam): 1416.597109\n",
      "6. feature 2 (ciudad): 1227.794152\n",
      "7. feature 17 (exp_uni): 1213.484369\n",
      "8. feature 21 (id_ciudad): 572.049366\n",
      "9. feature 15 (exp_rel-exp): 487.588986\n",
      "10. feature 1 (horas_formacion): 170.743027\n",
      "11. feature 4 (experiencia_relevante): 163.755148\n",
      "12. feature 6 (nivel_educacion): 135.684527\n",
      "13. feature 12 (experiencia_str): 133.712616\n",
      "14. feature 16 (uni_rel-exp): 124.111812\n",
      "15. feature 5 (universidad_matriculado): 118.802049\n",
      "16. feature 9 (tamano_compania): 25.929702\n",
      "17. feature 11 (ultimo_nuevo_trabajo): 21.460701\n",
      "18. feature 10 (tipo_compania): 18.804182\n",
      "19. feature 13 (t_c): 8.872551\n",
      "20. feature 8 (experiencia): 6.114468\n",
      "21. feature 14 (tam_c): 3.189906\n",
      "22. feature 7 (educacion): 0.356147\n",
      "23. feature 3 (genero): 0.069365\n"
     ]
    },
    {
     "data": {
      "image/png": "[encoded data removed]",
      "text/plain": [
       "<Figure size 432x288 with 1 Axes>"
      ]
     },
     "metadata": {
      "needs_background": "light",
      "tags": []
     },
     "output_type": "display_data"
    }
   ],
   "source": [
    "X, y = preprocess_for_FI(data1)\n",
    "feature_importances(X, y)"
   ]
  },
  {
   "cell_type": "markdown",
   "metadata": {
    "id": "NXp2-oLDd7xu"
   },
   "source": [
    "Hemos encontrado ciertas variables que a priori deberían mejorar la efectividad del modelo. Estas son:\n",
    "1. Nivel de educación por rango de índice de desarrollo de ciudad\n",
    "2. Experiencia en función de la experiencia relevante y de si se está matriculado o no en la universidad\n",
    "3. Experiencia en base al tamaño de la empresa\n",
    "4. último cambio de trabajo en base al tamaño de la empresa.\n",
    "\n",
    "Es interesante que el tamaño de la empresa por sí solo no importa información importante, pero si se combina con otras variables como el cambio de trabajo o la experiencia, esta sí juega un papel importante."
   ]
  },
  {
   "cell_type": "markdown",
   "metadata": {
    "id": "cC7ZoB0wesnQ"
   },
   "source": [
    "## 3. Feature engineering pipeline function\n",
    "\n",
    "Vamos a organizar todo lo que hemos visto hasta ahora, de manera que sea automatizable en un pipeline de datos."
   ]
  },
  {
   "cell_type": "code",
   "execution_count": 60,
   "metadata": {
    "id": "gPjT-80Yeysr"
   },
   "outputs": [],
   "source": [
    "from sklearn.pipeline import Pipeline\n",
    "from sklearn.base import BaseEstimator, TransformerMixin\n",
    "\n",
    "## Distintas funciones para la creación de cada feature\n",
    "def buckets_experiencia(x, limits = [10, 20]):\n",
    "    try:\n",
    "        x = int(x)\n",
    "        for i in limits:\n",
    "            if x <= i:\n",
    "                return '<' + str(i)\n",
    "    except:\n",
    "        if x == 'nan':\n",
    "            return np.nan\n",
    "        return x\n",
    "\n",
    "def buckets_tam_compania(x):\n",
    "    tam_c = {'<10': 'S', '10/49': 'S',\n",
    "             '50-99': 'M', '100-500': 'M', \n",
    "             '500-999': 'M', '1000-4999': 'L', \n",
    "             '5000-9999': 'L', '10000+': 'L'}\n",
    "    \n",
    "    if x != 'nan':\n",
    "        return tam_c[x]\n",
    "    else:\n",
    "        return np.nan\n",
    "\n",
    "def combine_buckets(x1, x2):\n",
    "    if str(x1) != 'nan' and str(x2) != 'nan':\n",
    "        #Cogemos solo la primera palabra de cada variable para que no sea tan larga\n",
    "        return str(x1).split(' ')[0] + '_' + str(x2).split(' ')[0] \n",
    "    else: \n",
    "        return np.nan\n",
    "    return x1\n",
    "\n",
    "\n",
    "def id_ciudad1(x, limits = [0.5, 0.6, 0.7, 0.8, 0.9, 1]):\n",
    "    for i in limits:\n",
    "        if float(x) < i:\n",
    "            return '<' + str(i)\n",
    "    \n",
    "\n",
    "\n",
    "def combine_features(data, col1, col2, new_col_name, f1=None, f2=None):\n",
    "    \"\"\"This function combines two features calling the combine_buckets function.\n",
    "    Args:\n",
    "    data (DataFrame): whole dataset\n",
    "    col1 (str): name of the first column to combine\n",
    "    col2 (str): name of the second column to combine\n",
    "    new_col_name (str): name for the new variable\n",
    "    f1 (str) optional: optional function to apply to the first column\n",
    "    f2 (str) optional: optional function to apply to the second column\n",
    "    \n",
    "    Returns:\n",
    "    data1 (DataFrame): new dataset with the new variable\"\"\"\n",
    "\n",
    "    data1 = data.copy()\n",
    "    # Convert all values of the variables into string\n",
    "    data1['new_'+col1] = data1[col1].apply(lambda x: str(x))\n",
    "    data1['new_'+col2] = data1[col2].apply(lambda x: str(x))\n",
    "\n",
    "    # If there are prior functions to apply, do it \n",
    "    if f1 != None:\n",
    "        data1['new_'+col1] = data1[col1].apply(f1)\n",
    "    if f2 != None:\n",
    "        data1['new_'+col2] = data1[col2].apply(f2)\n",
    "    # Create new feature by combining variables\n",
    "    data1[new_col_name] = data1.apply(lambda x: combine_buckets(x['new_'+col1], x['new_'+col2]), axis=1)\n",
    "    # Delete the stringed variables\n",
    "    data1.drop(columns=['new_'+col1, 'new_'+col2], inplace=True)\n",
    "    return data1\n",
    "\n",
    "\n",
    "# Clase encargada de crear nuevas features, llamando a la función correspondiente\n",
    "class CreateFeatures(BaseEstimator, TransformerMixin):\n",
    "  def __init__(self, function, *args, **kwargs):\n",
    "      self.function = function\n",
    "      self.args = args\n",
    "      self.kwargs = kwargs\n",
    "  def fit(self, X, y=None):\n",
    "      return self\n",
    "  def transform(self, X):\n",
    "      return self.function(X, *self.args, **self.kwargs)\n",
    "\n",
    "# Clase encargada de eliminar features\n",
    "class DropFeatures(BaseEstimator, TransformerMixin):\n",
    "    def __init__(self, features_to_drop):\n",
    "        self.features = features_to_drop\n",
    "    def fit(self, X, y=None):\n",
    "        return self\n",
    "    def transform(self, X):\n",
    "        return X.drop(columns=self.features)\n"
   ]
  },
  {
   "cell_type": "code",
   "execution_count": 61,
   "metadata": {
    "id": "Hyt9Fc3tl-FA"
   },
   "outputs": [],
   "source": [
    "data2 = combine_features(data1, col1='indice_desarrollo_ciudad', col2='nivel_educacion',\n",
    "                         new_col_name='ciudad_edu', f1=id_ciudad1)"
   ]
  },
  {
   "cell_type": "code",
   "execution_count": 37,
   "metadata": {
    "id": "NJKPSZRwfrM2"
   },
   "outputs": [],
   "source": [
    "data2 = combine_features(data2, col1='experiencia', col2='experiencia_relevante',\n",
    "                         new_col_name='exp_exp-rel', f1=buckets_experiencia)"
   ]
  },
  {
   "cell_type": "code",
   "execution_count": 58,
   "metadata": {
    "id": "cKNoy-jqNujl"
   },
   "outputs": [],
   "source": [
    "df = DropFeatures(['ciudad', 'genero'])\n",
    "data3 = df.fit_transform(data2)"
   ]
  }
 ],
 "metadata": {
  "colab": {
   "collapsed_sections": [],
   "name": "Feature_engineering1.ipynb",
   "provenance": [],
   "toc_visible": true
  },
  "kernelspec": {
   "display_name": "Python 3",
   "language": "python",
   "name": "python3"
  },
  "language_info": {
   "codemirror_mode": {
    "name": "ipython",
    "version": 3
   },
   "file_extension": ".py",
   "mimetype": "text/x-python",
   "name": "python",
   "nbconvert_exporter": "python",
   "pygments_lexer": "ipython3",
   "version": "3.8.10"
  }
 },
 "nbformat": 4,
 "nbformat_minor": 1
}
