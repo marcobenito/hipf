{
 "cells": [
  {
   "cell_type": "markdown",
   "metadata": {},
   "source": [
    "# Model selection\n",
    "\n",
    "En este notebook vamos a realizar las siguientes tareas:\n",
    "\n",
    "1. Combinar todas las funciones de preprocesamiento de datos vistas hasta ahora en los notebooks *Data_Exploration* y *Feature_Engineering* para generar un pipeline automatizado.\n",
    "2. Realizar un análisis de distintos algortimos de Machine Learning para ver cual es el más óptimo para el problema\n",
    "3. Optimización de hiperparámetros, a través de una búsqueda Grid Search sobre los distintos modelos analizados"
   ]
  },
  {
   "cell_type": "code",
   "execution_count": 31,
   "metadata": {},
   "outputs": [],
   "source": [
    "import numpy as np\n",
    "import pandas as pd\n",
    "import matplotlib.pyplot as plt\n",
    "import seaborn as sns\n",
    "sns.set_theme()\n",
    "\n",
    "%matplotlib inline"
   ]
  },
  {
   "cell_type": "code",
   "execution_count": 2,
   "metadata": {},
   "outputs": [],
   "source": [
    "data = pd.read_csv('../../datasets/Jobs/ds_job.csv')\n",
    "data1 = data.copy()"
   ]
  },
  {
   "cell_type": "markdown",
   "metadata": {},
   "source": [
    "## 1. Data Pipeline\n",
    "\n",
    "### 1.1 Feature Engineering\n",
    "\n",
    "Las distintas funciones vistas hasta ahora en el notebook de Feature Engineering (algunas han sido recodificadas para que el proceso sea más automático. Además, solo se han incluido las funciones de creación de las variables más importantes para el futuro modelo) son:"
   ]
  },
  {
   "cell_type": "code",
   "execution_count": 3,
   "metadata": {},
   "outputs": [],
   "source": [
    "#############################################################\n",
    "###       Funciones para la creación de variables         ###\n",
    "#############################################################\n",
    "\n",
    "## Función para discretizar la variable experiencia en buckets\n",
    "def buckets_experiencia(x, limits = [10, 20]):\n",
    "    try:\n",
    "        x = int(x)\n",
    "        for i in limits:\n",
    "            if x <= i:\n",
    "                return '<' + str(i)\n",
    "    except:\n",
    "        if x == 'nan':\n",
    "            return np.nan\n",
    "        return x\n",
    "\n",
    "## Función para discretizar la variable tamaño de compañía en buckets\n",
    "def buckets_tam_compania(x):\n",
    "    tam_c = {'<10': 'S', '10/49': 'S',\n",
    "             '50-99': 'M', '100-500': 'M', \n",
    "             '500-999': 'M', '1000-4999': 'L', \n",
    "             '5000-9999': 'L', '10000+': 'L'}\n",
    "    \n",
    "    if str(x) != 'nan':\n",
    "        return tam_c[x]\n",
    "    else:\n",
    "        return np.nan\n",
    "\n",
    "## Función para discretizar la variable índice de desarrollo ciudad en buckets\n",
    "def id_ciudad1(x, limits = [0.5, 0.6, 0.7, 0.8, 0.9, 1]):\n",
    "    for i in limits:\n",
    "        if float(x) < i:\n",
    "            return '<' + str(i)\n",
    "        \n",
    "# Función que permite unir dos variables discretas\n",
    "def combine_buckets(x1, x2):\n",
    "    if str(x1) != 'nan' and str(x2) != 'nan':\n",
    "        #Cogemos solo la primera palabra de cada variable para que no sea tan larga\n",
    "        return str(x1).split(' ')[0] + '_' + str(x2).split(' ')[0] \n",
    "    else: \n",
    "        return np.nan\n",
    "    return x1\n",
    "\n",
    "\n",
    "    \n",
    "# Función encargada de llamar a la función combine_buckets de manera correcta para combinar variables\n",
    "def combine_features(data, col1, col2, new_col_name, f1=None, f2=None):\n",
    "    \"\"\"This function combines two features calling the combine_buckets function.\n",
    "    Args:\n",
    "    data (DataFrame): whole dataset\n",
    "    col1 (str): name of the first column to combine\n",
    "    col2 (str): name of the second column to combine\n",
    "    new_col_name (str): name for the new variable\n",
    "    f1 (str) optional: optional function to apply to the first column\n",
    "    f2 (str) optional: optional function to apply to the second column\n",
    "    \n",
    "    Returns:\n",
    "    data1 (DataFrame): new dataset with the new variable\"\"\"\n",
    "\n",
    "    data1 = data.copy()\n",
    "    # Convertimos todos las variables a string\n",
    "    # Diferenciamos en función de si la entrada es un dataframe o un series\n",
    "    if isinstance(data1, pd.DataFrame):\n",
    "        data1['new_'+col1] = data1[col1].apply(lambda x: str(x))\n",
    "        data1['new_'+col2] = data1[col2].apply(lambda x: str(x))\n",
    "       \n",
    "\n",
    "        # Si hay funciones previas que han de ser aplicadas, lo hacemos \n",
    "        if f1 != None:\n",
    "            data1['new_'+col1] = data1[col1].apply(f1)\n",
    "        if f2 != None:\n",
    "            data1['new_'+col2] = data1[col2].apply(f2)\n",
    "        # Creación de nueva feature combinando variables\n",
    "        data1[new_col_name] = data1.apply(lambda x: combine_buckets(x['new_'+col1], x['new_'+col2]), axis=1)\n",
    "        # Borramos las variables intermedias\n",
    "        data1.drop(columns=['new_'+col1, 'new_'+col2], inplace=True)\n",
    "        return data1\n",
    "    \n",
    "    else:\n",
    "        data1['new_'+col1] = str(data1[col1])\n",
    "        data1['new_'+col2] = str(data1[col2])\n",
    "        if f1 != None:\n",
    "            data1['new_'+col1] = f1(data1[col1])\n",
    "        if f2 != None:\n",
    "            data1['new_'+col2] = f2(data1[col2])\n",
    "        data1[new_col_name] = combine_buckets(data1['new_'+col1], data1['new_'+col2])\n",
    "        data1.drop(labels=['new_'+col1, 'new_'+col2], inplace=True)\n",
    "        return data1\n",
    "    \n",
    "    \n",
    "\n",
    "    \n",
    "\n",
    "            "
   ]
  },
  {
   "cell_type": "markdown",
   "metadata": {},
   "source": [
    "### 1.2 Imputación de nulos\n",
    "\n",
    "Para la imputación de nulos, dado que prácticamente todas las variables son categóricas, hemos creado una función que imputa los nulos de forma ponderada, en función de la frecuencia de aparición de cada valor."
   ]
  },
  {
   "cell_type": "code",
   "execution_count": 4,
   "metadata": {},
   "outputs": [],
   "source": [
    "#############################################################\n",
    "###        Funciones para la imputación de nulos          ###\n",
    "#############################################################\n",
    "\n",
    "def calculo_ponderado(df, nulos): #funcion para calcular cual seria el numero de nulos a rellenar por cada variable en funcion de su peso\n",
    "    df = df.dropna()\n",
    "    total_datos = df.count()\n",
    "    datos = df.unique()\n",
    "    j = 0\n",
    "    for i in df.unique():\n",
    "        datos[j] = df[df == i].count()  # sacamos cuantos valores hay de cada tipo en total\n",
    "        j = j+1\n",
    "    porcentaje = list(datos)\n",
    "    u = 0\n",
    "    for q in datos:\n",
    "        porcentaje[u] = (datos[u]*100)/total_datos  # calculamos el porcentaje asociado\n",
    "        u = u+1\n",
    "    k = 0\n",
    "    pond = list(datos)\n",
    "    for valor in porcentaje:\n",
    "        pond[k] = valor*nulos/100   # calculamos la correspondencia en funcion de la cantidad de nulos\n",
    "        pond[k] = np.round(pond[k])\n",
    "        k = k+1\n",
    "    df_pond = pd.DataFrame(pond)\n",
    "    df_pond_t = df_pond.T\n",
    "    df_pond_t.columns = df.unique()  # creamos dataframe\n",
    "    maximo = df_pond_t.max()\n",
    "    return df_pond_t, maximo.index[0]\n",
    "\n",
    "import random\n",
    "\n",
    "def imputacion_nulos(df, mapeo):   # funcion para imputar nulos\n",
    "    v = list(mapeo)\n",
    "#     print(df.shape)\n",
    "    if df.shape[0] == 1:\n",
    "        weights = mapeo.values / mapeo.values.sum()\n",
    "        fill_value = random.choices(range(len(v)), weights=weights, k=1)\n",
    "        fill_value = v[fill_value]\n",
    "        df = df.fillna(fill_value)\n",
    "#     print(mapeo.values)\n",
    "#     print(mapeo.values / mapeo.values.sum())\n",
    "#     print(df.shape)\n",
    "# #     print(v)\n",
    "#     if isinstance(df, pd.DataFrame):\n",
    "    else:\n",
    "        j = 0    \n",
    "    #     print(mapeo.loc['Has relevent experience'])\n",
    "        for i in v:\n",
    "    #         print(i)\n",
    "            t = mapeo.loc[j, i]\n",
    "            if t > 0:\n",
    "                df = df.fillna(i, limit= int(t))  # limitamos el numero de nulos a rellenar en funcion de cuantos tiene q añadir de cada tipo\n",
    "            j+1\n",
    "        return df\n",
    "    "
   ]
  },
  {
   "cell_type": "markdown",
   "metadata": {},
   "source": [
    "### 1.3 Pipeline functions\n",
    "\n",
    "Para que las distintas funciones que hemos creado sean automatizables en un pipeline de scikit-learn, debemos crear unas clases basadas en el objeto TransformerMixin. De este modo, podrán usarse con la api de sklearn, haciendo uso de los métodos fit y transform"
   ]
  },
  {
   "cell_type": "code",
   "execution_count": 217,
   "metadata": {},
   "outputs": [],
   "source": [
    "from sklearn.pipeline import Pipeline\n",
    "from sklearn.base import BaseEstimator, TransformerMixin\n",
    "\n",
    "# Clase encargada de crear nuevas features, llamando a la función correspondiente\n",
    "class CreateFeatures(BaseEstimator, TransformerMixin):\n",
    "    def __init__(self, function, *args, **kwargs):\n",
    "        self.function = function\n",
    "        self.args = args\n",
    "        self.kwargs = kwargs\n",
    "    def fit(self, X, y=None):\n",
    "        return self\n",
    "    def transform(self, X):\n",
    "        if self.function != combine_features:\n",
    "            X['new_'+self.kwargs['col1']] = X[self.kwargs['col1']].apply(self.function)\n",
    "            return X\n",
    "        return self.function(X, *self.args, **self.kwargs)   \n",
    "    \n",
    "# Clase encargada de eliminar features\n",
    "class DropFeatures(BaseEstimator, TransformerMixin):\n",
    "    def __init__(self, features_to_drop):\n",
    "        self.features = features_to_drop\n",
    "    def fit(self, X, y=None):\n",
    "        return self\n",
    "    def transform(self, X):\n",
    "        if len(X.shape) == 1:\n",
    "            return X.drop(labels=self.features)\n",
    "        return X.drop(columns=self.features)\n",
    "\n",
    "from sklearn.preprocessing import LabelEncoder, OneHotEncoder\n",
    "from sklearn.feature_extraction import FeatureHasher\n",
    "    \n",
    "# Clase encargada de realizar un encoding sobre las variables categóricas\n",
    "class Encoder():\n",
    "    \"\"\"This class will execute an encoding scheme to categorical features. Two different schemes can\n",
    "    be applied: OneHotEncoding and FeatureHasher. The FeatureHaasher scheme allows to reduce the number\n",
    "    of output variables, in case there are a lot, in order to reduce possible overfitting. Therefore, \n",
    "    if the number of different values within a feature is higher than *limit*, FeatureHasher scheme \n",
    "    will be applied. Otherwise, OneHotEncoding scheme will.\"\"\"\n",
    "    \n",
    "    def __init__(self, limit=8):\n",
    "        self.limit = limit\n",
    "        self.ohe = OneHotEncoder()\n",
    "        self.fh = FeatureHasher(n_features = self.limit, input_type='string')\n",
    "        \n",
    "    def fit(self, X, y=None):\n",
    "        self.ft_to_hash = []\n",
    "        for col in X.columns:\n",
    "            if len(np.unique(X[col])) >= self.limit:\n",
    "                self.ft_to_hash.append(col)\n",
    "        return self\n",
    "\n",
    "    def transform(self, X):\n",
    "        X1 = np.asarray(X[self.ft_to_hash])\n",
    "        X2 = X.drop(columns=self.ft_to_hash)\n",
    "        ohe = pd.DataFrame(self.ohe.fit(X2).transform(X2).toarray())\n",
    "        fh = pd.DataFrame(self.fh.fit(X1).transform(X1).toarray())        \n",
    "        return pd.concat([ohe, fh], axis=1)\n",
    "        \n",
    "    def fit_transform(self, X, y=None):\n",
    "        X2 = self.fit(X).transform(X)\n",
    "        return X2\n",
    "    \n",
    "# Clase encargada de selecccionar las variables adecuadas al inicio del proceso\n",
    "class DataFrameSelector(BaseEstimator, TransformerMixin):\n",
    "    def __init__(self, attribute_names):\n",
    "        self.attribute_names = attribute_names\n",
    "    def fit(self, X, y=None):\n",
    "        return self\n",
    "    def transform(self, X):\n",
    "        return X[self.attribute_names]\n",
    "\n",
    "# Clase encargada de imputar los nulos con la función SimpleImputer\n",
    "from sklearn.impute import SimpleImputer\n",
    "class Imputer(BaseEstimator, TransformerMixin):\n",
    "    def __init__(self, strategy='median'):\n",
    "        self.strategy = strategy\n",
    "        self.imputer = SimpleImputer(strategy=self.strategy)\n",
    "    def fit(self, X, y=None):\n",
    "        return self.imputer.fit(X)\n",
    "    def transform(self, X):\n",
    "        X1 = X.values\n",
    "    # Diferenciamos entre si la entrada es un dataframe o un series\n",
    "        if isinstance(X, pd.Series):\n",
    "            X1 = X1.reshape(1,-1)\n",
    "            df = pd.DataFrame(self.imputer.transform(X1))\n",
    "            df.columns = X.index\n",
    "        else:\n",
    "            df = pd.DataFrame(self.imputer.transform(X))\n",
    "            df.columns = X.columns\n",
    "        return df\n",
    "    def fit_transform(self, X, y=None):\n",
    "        df = pd.DataFrame(self.imputer.fit(X).transform(X))\n",
    "        df.columns = X.columns\n",
    "        return df\n",
    "\n",
    "# Clase encargada de imputar los nulos con la función de imputación ponderada\n",
    "class Imputer1(BaseEstimator, TransformerMixin):\n",
    "    def fit(self, X, y=None):\n",
    "        return self\n",
    "    def transform(self, X):\n",
    "        cols = X.columns\n",
    "        prueba = cols\n",
    "        j = 0\n",
    "        df_sin_nul = X.copy()\n",
    "        for i in cols:\n",
    "#             print(X[i].isnull().sum())\n",
    "#             print(X[i].value_counts())\n",
    "            prueba, maximo = calculo_ponderado(X[i], X[i].isnull().sum())\n",
    "            df_sin_nul[i] = imputacion_nulos(X[i], prueba)\n",
    "            if df_sin_nul[i].isnull().sum() > 0: # en caso de que queden nulos por rellenar los llenamos con el valor mas alto\n",
    "                df_sin_nul[i] = df_sin_nul[i].fillna(maximo)\n",
    "            j = j+1\n",
    "        return df_sin_nul\n",
    "\n",
    "# Clase encargada de imputar los nulos con la función de imputación ponderada\n",
    "class Imputer2(BaseEstimator, TransformerMixin):\n",
    "    def fit(self, X, y=None):\n",
    "        cols = X.columns\n",
    "        self.prueba = [0]*len(cols)\n",
    "        self.maximo = [0]*len(cols)\n",
    "\n",
    "        for j, i in enumerate(cols):\n",
    "            self.prueba[j], self.maximo[j] = calculo_ponderado(X[i], X[i].isnull().sum())\n",
    "        return self\n",
    "    def transform(self, X):\n",
    "        df_sin_nul = X.copy()\n",
    "        if isinstance(X, pd.Series):\n",
    "            cols = X.index\n",
    "        elif isinstance(X, pd.DataFrame):\n",
    "            cols = X.columns\n",
    "#         prueba = [0]*len(cols)\n",
    "#         j = 0\n",
    "#         df_sin_nul = X.copy()\n",
    "        for j, i in enumerate(cols):\n",
    "            df_sin_nul[i] = imputacion_nulos(X[i], self.prueba[j])\n",
    "            if df_sin_nul[i].isnull().sum() > 0: # en caso de que queden nulos por rellenar los llenamos con el valor mas alto\n",
    "                df_sin_nul[i] = df_sin_nul[i].fillna(self.maximo[j])\n",
    "#             j = j+1\n",
    "        return df_sin_nul\n",
    "\n",
    "# Clase encargada de convertir los valores a string\n",
    "class Stringer(BaseEstimator, TransformerMixin):\n",
    "    def __init__(self, cols=None):\n",
    "#         self.function = function\n",
    "        self.cols = cols\n",
    "    def fit(self, X, y=None):\n",
    "        return self\n",
    "    def transform(self, X):\n",
    "        def stringer(x):\n",
    "            x1 = str(x)\n",
    "            if x1 == 'nan':\n",
    "                return np.nan\n",
    "            else:\n",
    "                return x1\n",
    "        if self.cols is None:\n",
    "            self.cols = X.columns\n",
    "        for col in self.cols:\n",
    "            # Diferenciamos entre si la entrada es dataframe o series\n",
    "            if isinstance(X, pd.DataFrame):\n",
    "                X[col] = X[col].apply(stringer)\n",
    "            else:\n",
    "                X[col] = str(X[col])\n",
    "        return X\n",
    "    \n"
   ]
  },
  {
   "cell_type": "markdown",
   "metadata": {},
   "source": [
    "### 1.4 Pipeline\n",
    "\n",
    "Ahora que ya hemos definido todas las posibles funciones, vamos a combinarlas en un pipeline automatizado. Diferenciaremos entre las variables categóricas y las numéricas, para posteriormente unirlos en un único pipeline común. \n",
    "\n",
    "En primer lugar, para realizar el análisis de modelos, vamos a realizar las transformaciones básicas sobre el conjunto de datos, sin entrar en la adicióno eliminación de posibles vairables."
   ]
  },
  {
   "cell_type": "code",
   "execution_count": 22,
   "metadata": {},
   "outputs": [],
   "source": [
    "from sklearn.pipeline import Pipeline, FeatureUnion\n",
    "from sklearn.preprocessing import MinMaxScaler\n",
    "\n",
    "# Seleccionamos las variables numéricas y las categóricas\n",
    "cat_cols = [i for i in data if data[str(i)].dtype == 'O']\n",
    "num_cols = [i for i in data if data[str(i)].dtype != 'O']\n",
    "num_cols.remove('target')\n",
    "cat_data = data1[cat_cols]\n",
    "num_data = data1[num_cols]\n",
    "\n",
    "# pasos del pipeline categórico\n",
    "cat_steps = [\n",
    "    ('selector', DataFrameSelector(cat_cols)),\n",
    "    ('stringer', Stringer()),\n",
    "    ('imputer', Imputer(strategy='most_frequent')),\n",
    "    ('encoder', Encoder(limit=20))\n",
    "]\n",
    "\n",
    "# Pasos del pipeline numérico\n",
    "num_steps = [\n",
    "    ('selector', DataFrameSelector(num_cols)),\n",
    "    ('dropper', DropFeatures(['empleado_id'])),\n",
    "    ('imputer', Imputer(strategy='median')),\n",
    "    ('scaler', MinMaxScaler())\n",
    "]\n",
    "\n",
    "num_pipeline = Pipeline(num_steps)\n",
    "cat_pipeline = Pipeline(cat_steps)\n",
    "\n",
    "# Concatenación de pipelines\n",
    "full_pipeline = FeatureUnion([\n",
    "    ('numeric_pipeline', num_pipeline),\n",
    "    ('categorical_pipeline', cat_pipeline)\n",
    "])"
   ]
  },
  {
   "cell_type": "markdown",
   "metadata": {},
   "source": [
    "## 2. Model selection\n",
    "\n",
    "### 2.1 Train - Test split + oversampling\n",
    "\n",
    "Ahora que ya tenemos el pipeline definido, vamos a proceder a entrenar varios modelos. El primer paso es separar los datos en conjuntos de train y test. Además, para la muestra de entrenamiento emplearemos el método RandomOverSampler de la librería Imbalanced learn. Esto se debe a que el dataset se encuentra desbalanceado. Es decir, existen más casos de empleados que no buscan un nuevo trabajo que los que sí. Para evitar que esto afecte lo máximo posible al modelo, realizamos un oversample de la clase con menor número de observaciones."
   ]
  },
  {
   "cell_type": "code",
   "execution_count": 109,
   "metadata": {},
   "outputs": [
    {
     "name": "stderr",
     "output_type": "stream",
     "text": [
      "<ipython-input-21-81bc41ebe3f9>:160: SettingWithCopyWarning: \n",
      "A value is trying to be set on a copy of a slice from a DataFrame.\n",
      "Try using .loc[row_indexer,col_indexer] = value instead\n",
      "\n",
      "See the caveats in the documentation: https://pandas.pydata.org/pandas-docs/stable/user_guide/indexing.html#returning-a-view-versus-a-copy\n",
      "  X[col] = X[col].apply(stringer)\n",
      "<ipython-input-21-81bc41ebe3f9>:160: SettingWithCopyWarning: \n",
      "A value is trying to be set on a copy of a slice from a DataFrame.\n",
      "Try using .loc[row_indexer,col_indexer] = value instead\n",
      "\n",
      "See the caveats in the documentation: https://pandas.pydata.org/pandas-docs/stable/user_guide/indexing.html#returning-a-view-versus-a-copy\n",
      "  X[col] = X[col].apply(stringer)\n"
     ]
    }
   ],
   "source": [
    "from sklearn.model_selection import train_test_split\n",
    "from imblearn.over_sampling import RandomOverSampler\n",
    "\n",
    "# Separamos la variable objetivo\n",
    "y = data['target']\n",
    "X = data.drop('target', axis=1)\n",
    "# Generamos conjuntos de train y test\n",
    "X_train, X_test, y_train, y_test = train_test_split(X, y, test_size=0.2, random_state=123)\n",
    "\n",
    "# Aplicamos el oversampling\n",
    "os =  RandomOverSampler(random_state=1, sampling_strategy=0.5)\n",
    "X_train_res, y_train1 = os.fit_resample(X_train, y_train)\n",
    "\n",
    "# Aplicamos el pipeline de transformación\n",
    "X_train1 = full_pipeline.fit_transform(X_train_res)\n",
    "X_test1 = full_pipeline.transform(X_test)\n"
   ]
  },
  {
   "cell_type": "markdown",
   "metadata": {},
   "source": [
    "### 2.2 Model analysis\n",
    "\n",
    "Vamos a probar a entrenar distintos modelos a partir de nuestro dataset"
   ]
  },
  {
   "cell_type": "code",
   "execution_count": 24,
   "metadata": {},
   "outputs": [],
   "source": [
    "from sklearn.metrics import f1_score, accuracy_score, precision_score, confusion_matrix, coverage_error, classification_report"
   ]
  },
  {
   "cell_type": "code",
   "execution_count": 326,
   "metadata": {},
   "outputs": [],
   "source": [
    "def mostrar_resultados(y_test, pred_y):\n",
    "    conf_matrix = confusion_matrix(y_test, pred_y)\n",
    "    plt.figure(figsize=(6, 5))\n",
    "    sns.heatmap(conf_matrix, annot=True, fmt=\"d\");\n",
    "    plt.title(\"Confusion matrix\")\n",
    "    plt.ylabel('True class')\n",
    "    plt.xlabel('Predicted class')\n",
    "    plt.show()\n",
    "    print('F1 score = {}'.format(f1_score(y_test, y_pred)))\n",
    "    print (classification_report(y_test, pred_y))"
   ]
  },
  {
   "cell_type": "markdown",
   "metadata": {},
   "source": [
    "#### 2.2.1 Logistic regresion"
   ]
  },
  {
   "cell_type": "code",
   "execution_count": 100,
   "metadata": {},
   "outputs": [
    {
     "name": "stdout",
     "output_type": "stream",
     "text": [
      "Train score 0.7445056538126993\n",
      "Test score 0.776356993736952\n"
     ]
    },
    {
     "data": {
      "image/png": "[encoded data removed]",
      "text/plain": [
       "<Figure size 432x360 with 2 Axes>"
      ]
     },
     "metadata": {
      "needs_background": "light"
     },
     "output_type": "display_data"
    },
    {
     "name": "stdout",
     "output_type": "stream",
     "text": [
      "              precision    recall  f1-score   support\n",
      "\n",
      "         0.0       0.83      0.88      0.86      2884\n",
      "         1.0       0.56      0.47      0.51       948\n",
      "\n",
      "    accuracy                           0.78      3832\n",
      "   macro avg       0.70      0.67      0.68      3832\n",
      "weighted avg       0.77      0.78      0.77      3832\n",
      "\n"
     ]
    }
   ],
   "source": [
    "from sklearn.linear_model import LogisticRegression\n",
    "lr = LogisticRegression(solver='newton-cg', random_state=1, C = 5)\n",
    "lr.fit(X=X_train1, y=y_train1)\n",
    "y_pred = lr.predict(X_test1)\n",
    "print('Train score {}'.format(lr.score(X=X_train1, y=y_train1)))\n",
    "print('Test score {}'.format(lr.score(X=X_test1, y=y_test)))\n",
    "mostrar_resultados(y_test, y_pred)"
   ]
  },
  {
   "cell_type": "markdown",
   "metadata": {},
   "source": [
    "#### 2.2.2 Extra Trees Classifier"
   ]
  },
  {
   "cell_type": "code",
   "execution_count": 101,
   "metadata": {},
   "outputs": [
    {
     "name": "stdout",
     "output_type": "stream",
     "text": [
      "Train score 0.9971585966946941\n",
      "Test score 0.75\n"
     ]
    },
    {
     "data": {
      "image/png": "[encoded data removed]",
      "text/plain": [
       "<Figure size 432x360 with 2 Axes>"
      ]
     },
     "metadata": {
      "needs_background": "light"
     },
     "output_type": "display_data"
    },
    {
     "name": "stdout",
     "output_type": "stream",
     "text": [
      "              precision    recall  f1-score   support\n",
      "\n",
      "         0.0       0.81      0.88      0.84      2884\n",
      "         1.0       0.49      0.36      0.42       948\n",
      "\n",
      "    accuracy                           0.75      3832\n",
      "   macro avg       0.65      0.62      0.63      3832\n",
      "weighted avg       0.73      0.75      0.74      3832\n",
      "\n"
     ]
    }
   ],
   "source": [
    "from sklearn.ensemble import ExtraTreesClassifier\n",
    "ExtTreesClass = ExtraTreesClassifier(n_estimators=100, random_state=123)\n",
    "ExtTreesClass.fit(X=X_train1, y=y_train1)\n",
    "y_pred = ExtTreesClass.predict(X_test1)\n",
    "print('Train score {}'.format(ExtTreesClass.score(X=X_train1, y=y_train1)))\n",
    "print('Test score {}'.format(ExtTreesClass.score(X=X_test1, y=y_test)))\n",
    "mostrar_resultados(y_test, y_pred)"
   ]
  },
  {
   "cell_type": "markdown",
   "metadata": {},
   "source": [
    "#### 2.2.3 Support Vector Machine Classifier"
   ]
  },
  {
   "cell_type": "code",
   "execution_count": 102,
   "metadata": {},
   "outputs": [
    {
     "name": "stdout",
     "output_type": "stream",
     "text": [
      "Train score 0.7454914467961729\n",
      "Test score 0.7776617954070981\n"
     ]
    },
    {
     "data": {
      "image/png": "[encoded data removed]",
      "text/plain": [
       "<Figure size 432x360 with 2 Axes>"
      ]
     },
     "metadata": {
      "needs_background": "light"
     },
     "output_type": "display_data"
    },
    {
     "name": "stdout",
     "output_type": "stream",
     "text": [
      "              precision    recall  f1-score   support\n",
      "\n",
      "         0.0       0.83      0.88      0.86      2884\n",
      "         1.0       0.56      0.47      0.51       948\n",
      "\n",
      "    accuracy                           0.78      3832\n",
      "   macro avg       0.70      0.67      0.68      3832\n",
      "weighted avg       0.77      0.78      0.77      3832\n",
      "\n"
     ]
    }
   ],
   "source": [
    "from sklearn import svm\n",
    "svc = svm.LinearSVC()\n",
    "svc.fit(X=X_train1, y=y_train1)\n",
    "y_pred = svc.predict(X_test1)\n",
    "print('Train score {}'.format(svc.score(X=X_train1, y=y_train1)))\n",
    "print('Test score {}'.format(svc.score(X=X_test1, y=y_test)))\n",
    "mostrar_resultados(y_test, y_pred)"
   ]
  },
  {
   "cell_type": "markdown",
   "metadata": {},
   "source": [
    "#### 2.2.4 KNearest Neighbors Classifier"
   ]
  },
  {
   "cell_type": "code",
   "execution_count": 111,
   "metadata": {},
   "outputs": [
    {
     "name": "stdout",
     "output_type": "stream",
     "text": [
      "Train score 0.8148471108010696\n",
      "Test score 0.7207724425887265\n"
     ]
    },
    {
     "data": {
      "image/png": "[encoded data removed]",
      "text/plain": [
       "<Figure size 432x360 with 2 Axes>"
      ]
     },
     "metadata": {
      "needs_background": "light"
     },
     "output_type": "display_data"
    },
    {
     "name": "stdout",
     "output_type": "stream",
     "text": [
      "              precision    recall  f1-score   support\n",
      "\n",
      "         0.0       0.84      0.79      0.81      2913\n",
      "         1.0       0.43      0.51      0.47       919\n",
      "\n",
      "    accuracy                           0.72      3832\n",
      "   macro avg       0.63      0.65      0.64      3832\n",
      "weighted avg       0.74      0.72      0.73      3832\n",
      "\n"
     ]
    }
   ],
   "source": [
    "from sklearn.neighbors import KNeighborsClassifier\n",
    "knn = KNeighborsClassifier()\n",
    "knn.fit(X=X_train1, y=y_train1)\n",
    "y_pred = knn.predict(X_test1)\n",
    "print('Train score {}'.format(knn.score(X=X_train1, y=y_train1)))\n",
    "print('Test score {}'.format(knn.score(X=X_test1, y=y_test)))\n",
    "mostrar_resultados(y_test, y_pred)"
   ]
  },
  {
   "cell_type": "markdown",
   "metadata": {},
   "source": [
    "#### 2.2.5 Random Forest Classifier"
   ]
  },
  {
   "cell_type": "code",
   "execution_count": 103,
   "metadata": {},
   "outputs": [
    {
     "name": "stdout",
     "output_type": "stream",
     "text": [
      "Train score 0.9971585966946941\n",
      "Test score 0.7609603340292276\n"
     ]
    },
    {
     "data": {
      "image/png": "[encoded data removed]",
      "text/plain": [
       "<Figure size 432x360 with 2 Axes>"
      ]
     },
     "metadata": {
      "needs_background": "light"
     },
     "output_type": "display_data"
    },
    {
     "name": "stdout",
     "output_type": "stream",
     "text": [
      "              precision    recall  f1-score   support\n",
      "\n",
      "         0.0       0.82      0.88      0.85      2884\n",
      "         1.0       0.52      0.41      0.46       948\n",
      "\n",
      "    accuracy                           0.76      3832\n",
      "   macro avg       0.67      0.64      0.65      3832\n",
      "weighted avg       0.74      0.76      0.75      3832\n",
      "\n"
     ]
    }
   ],
   "source": [
    "from sklearn.ensemble import RandomForestClassifier\n",
    "rfc = RandomForestClassifier(random_state=0)\n",
    "rfc.fit(X=X_train1, y=y_train1)\n",
    "y_pred = rfc.predict(X_test1)\n",
    "print('Train score {}'.format(rfc.score(X=X_train1, y=y_train1)))\n",
    "print('Test score {}'.format(rfc.score(X=X_test1, y=y_test)))\n",
    "mostrar_resultados(y_test, y_pred)"
   ]
  },
  {
   "cell_type": "markdown",
   "metadata": {},
   "source": [
    "#### 2.2.6 XGBoost Classifier"
   ]
  },
  {
   "cell_type": "code",
   "execution_count": 104,
   "metadata": {},
   "outputs": [
    {
     "name": "stderr",
     "output_type": "stream",
     "text": [
      "D:\\Programas\\Anaconda3\\lib\\site-packages\\xgboost\\sklearn.py:1146: UserWarning: The use of label encoder in XGBClassifier is deprecated and will be removed in a future release. To remove this warning, do the following: 1) Pass option use_label_encoder=False when constructing XGBClassifier object; and 2) Encode your labels (y) as integers starting with 0, i.e. 0, 1, 2, ..., [num_class - 1].\n",
      "  warnings.warn(label_encoder_deprecation_msg, UserWarning)\n"
     ]
    },
    {
     "name": "stdout",
     "output_type": "stream",
     "text": [
      "[14:09:02] WARNING: ..\\src\\learner.cc:1095: Starting in XGBoost 1.3.0, the default evaluation metric used with the objective 'binary:logistic' was changed from 'error' to 'logloss'. Explicitly set eval_metric if you'd like to restore the old behavior.\n"
     ]
    },
    {
     "name": "stderr",
     "output_type": "stream",
     "text": [
      "D:\\Programas\\Anaconda3\\lib\\site-packages\\xgboost\\data.py:112: UserWarning: Use subset (sliced data) of np.ndarray is not recommended because it will generate extra copies and increase memory consumption\n",
      "  warnings.warn(\n"
     ]
    },
    {
     "name": "stdout",
     "output_type": "stream",
     "text": [
      "Train score 0.849405624818788\n",
      "Test score 0.7721816283924844\n"
     ]
    },
    {
     "data": {
      "image/png": "[encoded data removed]",
      "text/plain": [
       "<Figure size 432x360 with 2 Axes>"
      ]
     },
     "metadata": {
      "needs_background": "light"
     },
     "output_type": "display_data"
    },
    {
     "name": "stdout",
     "output_type": "stream",
     "text": [
      "              precision    recall  f1-score   support\n",
      "\n",
      "         0.0       0.85      0.85      0.85      2884\n",
      "         1.0       0.54      0.53      0.53       948\n",
      "\n",
      "    accuracy                           0.77      3832\n",
      "   macro avg       0.69      0.69      0.69      3832\n",
      "weighted avg       0.77      0.77      0.77      3832\n",
      "\n"
     ]
    }
   ],
   "source": [
    "from xgboost import XGBClassifier\n",
    "xgb = XGBClassifier(objective=\"binary:logistic\", random_state=0)\n",
    "xgb.fit(X_train1, y_train1)\n",
    "y_pred = xgb.predict(X_test1)\n",
    "print('Train score {}'.format(xgb.score(X=X_train1, y=y_train1)))\n",
    "print('Test score {}'.format(xgb.score(X=X_test1, y=y_test)))\n",
    "mostrar_resultados(y_test, y_pred)"
   ]
  },
  {
   "cell_type": "markdown",
   "metadata": {},
   "source": [
    "#### 2.2.7 XGBoost RandomForest Classifier"
   ]
  },
  {
   "cell_type": "code",
   "execution_count": 105,
   "metadata": {},
   "outputs": [
    {
     "name": "stdout",
     "output_type": "stream",
     "text": [
      "[14:09:11] WARNING: ..\\src\\learner.cc:1095: Starting in XGBoost 1.3.0, the default evaluation metric used with the objective 'binary:logistic' was changed from 'error' to 'logloss'. Explicitly set eval_metric if you'd like to restore the old behavior.\n",
      "Train score 0.7591185850971296\n",
      "Test score 0.782098121085595\n"
     ]
    },
    {
     "data": {
      "image/png": "[encoded data removed]",
      "text/plain": [
       "<Figure size 432x360 with 2 Axes>"
      ]
     },
     "metadata": {
      "needs_background": "light"
     },
     "output_type": "display_data"
    },
    {
     "name": "stdout",
     "output_type": "stream",
     "text": [
      "              precision    recall  f1-score   support\n",
      "\n",
      "         0.0       0.84      0.87      0.86      2884\n",
      "         1.0       0.57      0.50      0.53       948\n",
      "\n",
      "    accuracy                           0.78      3832\n",
      "   macro avg       0.70      0.69      0.70      3832\n",
      "weighted avg       0.77      0.78      0.78      3832\n",
      "\n"
     ]
    }
   ],
   "source": [
    "from xgboost import XGBRFClassifier\n",
    "xgbrf = XGBRFClassifier(objective=\"binary:logistic\", random_state=0)\n",
    "xgbrf.fit(X_train1, y_train1)\n",
    "y_pred = xgbrf.predict(X_test1)\n",
    "print('Train score {}'.format(xgbrf.score(X=X_train1, y=y_train1)))\n",
    "print('Test score {}'.format(xgbrf.score(X=X_test1, y=y_test)))\n",
    "mostrar_resultados(y_test, y_pred)"
   ]
  },
  {
   "cell_type": "markdown",
   "metadata": {},
   "source": [
    "#### 2.2.8 Fully Connected Neural Network"
   ]
  },
  {
   "cell_type": "code",
   "execution_count": 174,
   "metadata": {},
   "outputs": [
    {
     "name": "stderr",
     "output_type": "stream",
     "text": [
      "D:\\Programas\\Anaconda3\\lib\\site-packages\\sklearn\\neural_network\\_multilayer_perceptron.py:471: ConvergenceWarning: lbfgs failed to converge (status=1):\n",
      "STOP: TOTAL NO. of ITERATIONS REACHED LIMIT.\n",
      "\n",
      "Increase the number of iterations (max_iter) or scale the data as shown in:\n",
      "    https://scikit-learn.org/stable/modules/preprocessing.html\n",
      "  self.n_iter_ = _check_optimize_result(\"lbfgs\", opt_res, self.max_iter)\n"
     ]
    },
    {
     "name": "stdout",
     "output_type": "stream",
     "text": [
      "Train score 0.7738635042436925\n",
      "Test score 0.7606993736951984\n"
     ]
    },
    {
     "data": {
      "image/png": "[encoded data removed]",
      "text/plain": [
       "<Figure size 432x360 with 2 Axes>"
      ]
     },
     "metadata": {
      "needs_background": "light"
     },
     "output_type": "display_data"
    },
    {
     "name": "stdout",
     "output_type": "stream",
     "text": [
      "              precision    recall  f1-score   support\n",
      "\n",
      "         0.0       0.86      0.82      0.84      2913\n",
      "         1.0       0.50      0.59      0.54       919\n",
      "\n",
      "    accuracy                           0.76      3832\n",
      "   macro avg       0.68      0.70      0.69      3832\n",
      "weighted avg       0.78      0.76      0.77      3832\n",
      "\n"
     ]
    }
   ],
   "source": [
    "from sklearn.neural_network import MLPClassifier\n",
    "\n",
    "nn = MLPClassifier(solver='lbfgs', alpha=1e-3,\n",
    "                    hidden_layer_sizes=(10, 2), random_state=1, verbose=2)\n",
    "nn.fit(X_train1, y_train1)\n",
    "y_pred = nn.predict(X_test1)\n",
    "print('Train score {}'.format(nn.score(X=X_train1, y=y_train1)))\n",
    "print('Test score {}'.format(nn.score(X=X_test1, y=y_test)))\n",
    "mostrar_resultados(y_test, y_pred)"
   ]
  },
  {
   "cell_type": "markdown",
   "metadata": {},
   "source": [
    "Todos los modelos presentan unos resultados muy similares. El score (accuracy) sobre la muestra de test está en todos los casos entre 0.75 y 0.78 (a excepción del kn neighbors). Sin embargo, sí se encuentran diferencias en el score de train, alcanzando los modelos basados en árboles de decisión (RandomForest y ExtraTrees) en 0.99, lo cual indica que haciendo un buen GridSearch se podrían encontrar soluciones que disminuyan un poco el train score y aumenten el test score, reduciendo así el overfitting. Además, el modelo XGBoost también cuenta con cierto overfitting, al ser el train score de 0.85. En el resto de modelos, el score obtenido en test es superior al obtenido en train."
   ]
  },
  {
   "cell_type": "markdown",
   "metadata": {},
   "source": [
    "### 2.3 Hyperparameter tuning"
   ]
  },
  {
   "cell_type": "code",
   "execution_count": 61,
   "metadata": {},
   "outputs": [
    {
     "name": "stderr",
     "output_type": "stream",
     "text": [
      "<ipython-input-21-81bc41ebe3f9>:160: SettingWithCopyWarning: \n",
      "A value is trying to be set on a copy of a slice from a DataFrame.\n",
      "Try using .loc[row_indexer,col_indexer] = value instead\n",
      "\n",
      "See the caveats in the documentation: https://pandas.pydata.org/pandas-docs/stable/user_guide/indexing.html#returning-a-view-versus-a-copy\n",
      "  X[col] = X[col].apply(stringer)\n"
     ]
    }
   ],
   "source": [
    "from sklearn.model_selection import GridSearchCV\n",
    "from sklearn.model_selection import cross_val_predict\n",
    "X_t, y_t = os.fit_resample(X, y)\n",
    "X_t = full_pipeline.fit_transform(X_t)\n"
   ]
  },
  {
   "cell_type": "code",
   "execution_count": 117,
   "metadata": {},
   "outputs": [],
   "source": [
    "model_names = []\n",
    "model = []\n",
    "best_params = []"
   ]
  },
  {
   "cell_type": "markdown",
   "metadata": {},
   "source": [
    "#### 2.3.1 Logistic Regression"
   ]
  },
  {
   "cell_type": "code",
   "execution_count": 66,
   "metadata": {},
   "outputs": [
    {
     "name": "stdout",
     "output_type": "stream",
     "text": [
      "Fitting 5 folds for each of 24 candidates, totalling 120 fits\n"
     ]
    },
    {
     "name": "stderr",
     "output_type": "stream",
     "text": [
      "[Parallel(n_jobs=-1)]: Using backend LokyBackend with 4 concurrent workers.\n",
      "[Parallel(n_jobs=-1)]: Done  58 tasks      | elapsed:   26.9s\n",
      "[Parallel(n_jobs=-1)]: Done 120 out of 120 | elapsed:  1.2min finished\n"
     ]
    },
    {
     "name": "stdout",
     "output_type": "stream",
     "text": [
      "{'C': 4, 'solver': 'lbfgs'}\n",
      "Train score 0.7453906353627802\n",
      "Test score 0.7759220598469033\n",
      "   param_solver param_C  mean_test_score\n",
      "13        lbfgs       4         0.745631\n",
      "14         saga       4         0.745631\n",
      "6     newton-cg       2         0.745584\n",
      "8          saga       2         0.745584\n",
      "12    newton-cg       4         0.745584\n",
      "9     newton-cg       3         0.745584\n",
      "11         saga       3         0.745584\n",
      "7         lbfgs       2         0.745538\n",
      "16        lbfgs       5         0.745538\n",
      "10        lbfgs       3         0.745538\n"
     ]
    }
   ],
   "source": [
    "lr = LogisticRegression(random_state=1)\n",
    "params = {'solver': ['newton-cg', 'lbfgs', 'saga'],\n",
    "        'C': range(8),\n",
    "         }\n",
    "gs = GridSearchCV(estimator=lr, param_grid=params, cv=5, verbose=1, n_jobs=-1)\n",
    "gs.fit(X_t, y_t)\n",
    "print(gs.best_params_)\n",
    "model.append('Logistic Regression')\n",
    "# y_proba = cross_val_predict(gs, X_train1, y_train1, cv=5, method='predict_proba')\n",
    "model.append(gs)\n",
    "best_params.append(gs.best_params_)\n",
    "print('Train score {}'.format(gs.score(X=X_train1, y=y_train1)))\n",
    "print('Test score {}'.format(gs.score(X=X_test1, y=y_test)))\n",
    "results = pd.DataFrame(gs.cv_results_).sort_values(by='mean_test_score', ascending=False)\n",
    "df = results[['param_solver', 'param_C', 'mean_test_score']]\n",
    "print(df.head(10))\n"
   ]
  },
  {
   "cell_type": "markdown",
   "metadata": {},
   "source": [
    "#### 2.3.2 Extra Trees Classifier"
   ]
  },
  {
   "cell_type": "code",
   "execution_count": 71,
   "metadata": {},
   "outputs": [
    {
     "name": "stdout",
     "output_type": "stream",
     "text": [
      "Fitting 5 folds for each of 120 candidates, totalling 600 fits\n"
     ]
    },
    {
     "name": "stderr",
     "output_type": "stream",
     "text": [
      "[Parallel(n_jobs=-1)]: Using backend LokyBackend with 4 concurrent workers.\n",
      "[Parallel(n_jobs=-1)]: Done  42 tasks      | elapsed:   32.7s\n",
      "[Parallel(n_jobs=-1)]: Done 192 tasks      | elapsed:  2.5min\n",
      "[Parallel(n_jobs=-1)]: Done 442 tasks      | elapsed:  5.8min\n",
      "[Parallel(n_jobs=-1)]: Done 600 out of 600 | elapsed:  7.9min finished\n"
     ]
    },
    {
     "name": "stdout",
     "output_type": "stream",
     "text": [
      "{'max_features': 'auto', 'max_leaf_nodes': 11, 'min_samples_leaf': 4, 'min_samples_split': 4}\n",
      "Train score 0.6936596365565725\n",
      "Test score 0.7644398051496173\n",
      "    param_max_features param_max_leaf_nodes param_min_samples_leaf  \\\n",
      "111               sqrt                   11                      4   \n",
      "112               sqrt                   11                      4   \n",
      "54                auto                   11                      6   \n",
      "55                auto                   11                      6   \n",
      "56                auto                   11                      6   \n",
      "51                auto                   11                      4   \n",
      "52                auto                   11                      4   \n",
      "53                auto                   11                      4   \n",
      "113               sqrt                   11                      4   \n",
      "114               sqrt                   11                      6   \n",
      "\n",
      "    param_min_samples_split  mean_test_score  \n",
      "111                       4         0.693338  \n",
      "112                       5         0.693338  \n",
      "54                        4         0.693338  \n",
      "55                        5         0.693338  \n",
      "56                        6         0.693338  \n",
      "51                        4         0.693338  \n",
      "52                        5         0.693338  \n",
      "53                        6         0.693338  \n",
      "113                       6         0.693338  \n",
      "114                       4         0.693338  \n"
     ]
    }
   ],
   "source": [
    "etc = ExtraTreesClassifier(random_state=123)\n",
    "\n",
    "params = {\n",
    "        'max_features': ['auto', 'sqrt'],\n",
    "        'max_leaf_nodes': range(8,12),\n",
    "        'min_samples_leaf': range(0,10,2),\n",
    "        'min_samples_split': range(4,7)\n",
    "         }\n",
    "\n",
    "gs = GridSearchCV(estimator=etc, param_grid=params, cv=5, verbose=1, n_jobs=-1)\n",
    "gs.fit(X_t, y_t)\n",
    "print(gs.best_params_)\n",
    "model_names.append('Extra Trees')\n",
    "model.append(gs)\n",
    "best_params.append(gs.best_params_)\n",
    "print('Train score {}'.format(gs.score(X=X_train1, y=y_train1)))\n",
    "print('Test score {}'.format(gs.score(X=X_test1, y=y_test)))\n",
    "results = pd.DataFrame(gs.cv_results_).sort_values(by='mean_test_score', ascending=False)\n",
    "df = results[['param_max_features', 'param_max_leaf_nodes', 'param_min_samples_leaf', 'param_min_samples_split', 'mean_test_score']]\n",
    "print(df.head(10))"
   ]
  },
  {
   "cell_type": "markdown",
   "metadata": {},
   "source": [
    "#### 2.3.3 Support Vector Machine Classifier"
   ]
  },
  {
   "cell_type": "code",
   "execution_count": 72,
   "metadata": {},
   "outputs": [
    {
     "name": "stdout",
     "output_type": "stream",
     "text": [
      "Fitting 5 folds for each of 20 candidates, totalling 100 fits\n"
     ]
    },
    {
     "name": "stderr",
     "output_type": "stream",
     "text": [
      "[Parallel(n_jobs=-1)]: Using backend LokyBackend with 4 concurrent workers.\n",
      "[Parallel(n_jobs=-1)]: Done  42 tasks      | elapsed:   26.8s\n",
      "[Parallel(n_jobs=-1)]: Done 100 out of 100 | elapsed:  1.6min finished\n"
     ]
    },
    {
     "name": "stdout",
     "output_type": "stream",
     "text": [
      "{'C': 8, 'loss': 'squared_hinge'}\n",
      "Train score 0.745788566122828\n",
      "Test score 0.7780097425191371\n",
      "       param_loss param_C  mean_test_score\n",
      "17  squared_hinge       8         0.746419\n",
      "19  squared_hinge       9         0.746094\n",
      "7   squared_hinge       3         0.745816\n",
      "9   squared_hinge       4         0.745770\n",
      "5   squared_hinge       2         0.745770\n",
      "3   squared_hinge       1         0.745770\n",
      "11  squared_hinge       5         0.745723\n",
      "13  squared_hinge       6         0.745677\n",
      "15  squared_hinge       7         0.745445\n",
      "10          hinge       5         0.743869\n"
     ]
    },
    {
     "name": "stderr",
     "output_type": "stream",
     "text": [
      "D:\\Programas\\Anaconda3\\lib\\site-packages\\sklearn\\svm\\_base.py:976: ConvergenceWarning: Liblinear failed to converge, increase the number of iterations.\n",
      "  warnings.warn(\"Liblinear failed to converge, increase \"\n"
     ]
    }
   ],
   "source": [
    "svc = svm.LinearSVC()\n",
    "\n",
    "params = {'loss': ['hinge', 'squared_hinge'],\n",
    "        'C': range(10),\n",
    "         }\n",
    "\n",
    "gs = GridSearchCV(estimator=svc, param_grid=params, cv=5, verbose=1, n_jobs=-1)\n",
    "gs.fit(X_t, y_t)\n",
    "print(gs.best_params_)\n",
    "model_names.append('Linear SCV')\n",
    "model.append(gs)\n",
    "best_params.append(gs.best_params_)\n",
    "print('Train score {}'.format(gs.score(X=X_train1, y=y_train1)))\n",
    "print('Test score {}'.format(gs.score(X=X_test1, y=y_test)))\n",
    "results = pd.DataFrame(gs.cv_results_).sort_values(by='mean_test_score', ascending=False)\n",
    "df = results[['param_loss', 'param_C', 'mean_test_score']]\n",
    "print(df.head(10))"
   ]
  },
  {
   "cell_type": "markdown",
   "metadata": {},
   "source": [
    "#### 2.3.4 Random Forest"
   ]
  },
  {
   "cell_type": "code",
   "execution_count": 75,
   "metadata": {},
   "outputs": [
    {
     "name": "stdout",
     "output_type": "stream",
     "text": [
      "Fitting 5 folds for each of 432 candidates, totalling 2160 fits\n"
     ]
    },
    {
     "name": "stderr",
     "output_type": "stream",
     "text": [
      "[Parallel(n_jobs=-1)]: Using backend LokyBackend with 4 concurrent workers.\n",
      "[Parallel(n_jobs=-1)]: Done  42 tasks      | elapsed:   24.8s\n",
      "[Parallel(n_jobs=-1)]: Done 192 tasks      | elapsed:  1.9min\n",
      "[Parallel(n_jobs=-1)]: Done 442 tasks      | elapsed:  4.5min\n",
      "[Parallel(n_jobs=-1)]: Done 792 tasks      | elapsed:  8.0min\n",
      "[Parallel(n_jobs=-1)]: Done 1242 tasks      | elapsed: 14.0min\n",
      "[Parallel(n_jobs=-1)]: Done 1792 tasks      | elapsed: 19.1min\n",
      "[Parallel(n_jobs=-1)]: Done 2160 out of 2160 | elapsed: 22.6min finished\n"
     ]
    },
    {
     "name": "stdout",
     "output_type": "stream",
     "text": [
      "{'max_depth': 8, 'max_features': 'auto', 'max_leaf_nodes': 11, 'min_samples_leaf': 20, 'min_samples_split': 4}\n",
      "Train score 0.7323252420745457\n",
      "Test score 0.779053583855254\n",
      "    param_max_depth param_max_features param_max_leaf_nodes  \\\n",
      "69                8               sqrt                   11   \n",
      "71                8               sqrt                   11   \n",
      "70                8               sqrt                   11   \n",
      "33                8               auto                   11   \n",
      "34                8               auto                   11   \n",
      "35                8               auto                   11   \n",
      "429              18               sqrt                   11   \n",
      "287              14               sqrt                   11   \n",
      "286              14               sqrt                   11   \n",
      "285              14               sqrt                   11   \n",
      "\n",
      "    param_min_samples_leaf param_min_samples_split  mean_test_score  \n",
      "69                      20                       4         0.733763  \n",
      "71                      20                       6         0.733763  \n",
      "70                      20                       5         0.733763  \n",
      "33                      20                       4         0.733763  \n",
      "34                      20                       5         0.733763  \n",
      "35                      20                       6         0.733763  \n",
      "429                     20                       4         0.733763  \n",
      "287                     20                       6         0.733763  \n",
      "286                     20                       5         0.733763  \n",
      "285                     20                       4         0.733763  \n"
     ]
    }
   ],
   "source": [
    "rfc = RandomForestClassifier(random_state=123, n_jobs=-1)\n",
    "\n",
    "params = {'max_depth': range(8,20,2),\n",
    "        'max_features': ['auto', 'sqrt'],\n",
    "        'max_leaf_nodes': range(8,12),\n",
    "        'min_samples_leaf': range(16,22,2),\n",
    "        'min_samples_split': range(4,7)\n",
    "         }\n",
    "\n",
    "gs = GridSearchCV(estimator=rfc, param_grid=params, cv=5, verbose=1, n_jobs=-1)\n",
    "gs.fit(X_t, y_t)\n",
    "print(gs.best_params_)\n",
    "model_names.append('Random Forest')\n",
    "model.append(gs)\n",
    "best_params.append(gs.best_params_)\n",
    "print('Train score {}'.format(gs.score(X=X_train1, y=y_train1)))\n",
    "print('Test score {}'.format(gs.score(X=X_test1, y=y_test)))\n",
    "results = pd.DataFrame(gs.cv_results_).sort_values(by='mean_test_score', ascending=False)\n",
    "df = results[['param_max_depth', 'param_max_features', 'param_max_leaf_nodes', 'param_min_samples_leaf', 'param_min_samples_split', 'mean_test_score']]\n",
    "print(df.head(10))"
   ]
  },
  {
   "cell_type": "markdown",
   "metadata": {},
   "source": [
    "#### 2.3.5 XGBoost"
   ]
  },
  {
   "cell_type": "code",
   "execution_count": 76,
   "metadata": {},
   "outputs": [
    {
     "name": "stdout",
     "output_type": "stream",
     "text": [
      "Fitting 5 folds for each of 30 candidates, totalling 150 fits\n"
     ]
    },
    {
     "name": "stderr",
     "output_type": "stream",
     "text": [
      "[Parallel(n_jobs=-1)]: Using backend LokyBackend with 4 concurrent workers.\n",
      "D:\\Programas\\Anaconda3\\lib\\site-packages\\joblib\\externals\\loky\\process_executor.py:688: UserWarning: A worker stopped while some jobs were given to the executor. This can be caused by a too short worker timeout or by a memory leak.\n",
      "  warnings.warn(\n",
      "[Parallel(n_jobs=-1)]: Done  42 tasks      | elapsed:  2.2min\n",
      "[Parallel(n_jobs=-1)]: Done 150 out of 150 | elapsed: 26.9min finished\n",
      "D:\\Programas\\Anaconda3\\lib\\site-packages\\xgboost\\sklearn.py:1146: UserWarning: The use of label encoder in XGBClassifier is deprecated and will be removed in a future release. To remove this warning, do the following: 1) Pass option use_label_encoder=False when constructing XGBClassifier object; and 2) Encode your labels (y) as integers starting with 0, i.e. 0, 1, 2, ..., [num_class - 1].\n",
      "  warnings.warn(label_encoder_deprecation_msg, UserWarning)\n"
     ]
    },
    {
     "name": "stdout",
     "output_type": "stream",
     "text": [
      "[13:09:53] WARNING: ..\\src\\learner.cc:1095: Starting in XGBoost 1.3.0, the default evaluation metric used with the objective 'binary:logistic' was changed from 'error' to 'logloss'. Explicitly set eval_metric if you'd like to restore the old behavior.\n",
      "{'booster': 'gbtree', 'max_depth': 10, 'reg_alpha': 0.0001}\n",
      "Train score 0.930959013131715\n",
      "Test score 0.9321503131524008\n",
      "   param_max_depth param_booster param_reg_alpha  mean_test_score\n",
      "13              10        gbtree          0.0001         0.802606\n",
      "28              10          dart          0.0001         0.802606\n",
      "14              10        gbtree           0.001         0.800845\n",
      "29              10          dart           0.001         0.800845\n",
      "12              10        gbtree               0         0.800427\n",
      "27              10          dart               0         0.800427\n",
      "11               9        gbtree           0.001         0.797599\n",
      "26               9          dart           0.001         0.797599\n",
      "9                9        gbtree               0         0.796950\n",
      "24               9          dart               0         0.796950\n"
     ]
    },
    {
     "name": "stderr",
     "output_type": "stream",
     "text": [
      "D:\\Programas\\Anaconda3\\lib\\site-packages\\xgboost\\data.py:112: UserWarning: Use subset (sliced data) of np.ndarray is not recommended because it will generate extra copies and increase memory consumption\n",
      "  warnings.warn(\n"
     ]
    }
   ],
   "source": [
    "xgb = XGBClassifier(objective=\"binary:logistic\", random_state=0)\n",
    "\n",
    "params = {\n",
    "        'max_depth': [6,7,8,9,10],\n",
    "        'booster': ['gbtree', 'dart'],\n",
    "        'reg_alpha': [0, 0.0001, 0.001]\n",
    "         }\n",
    "\n",
    "gs = GridSearchCV(estimator=xgb, param_grid=params, cv=5, verbose=1, n_jobs=-1)\n",
    "gs.fit(X_t, y_t)\n",
    "print(gs.best_params_)\n",
    "model_names.append('XGBoost')\n",
    "model.append(gs)\n",
    "best_params.append(gs.best_params_)\n",
    "print('Train score {}'.format(gs.score(X=X_train1, y=y_train1)))\n",
    "print('Test score {}'.format(gs.score(X=X_test1, y=y_test)))\n",
    "results = pd.DataFrame(gs.cv_results_).sort_values(by='mean_test_score', ascending=False)\n",
    "df = results[['param_max_depth', 'param_booster', 'param_reg_alpha', 'mean_test_score']]\n",
    "print(df.head(10))"
   ]
  },
  {
   "cell_type": "code",
   "execution_count": 79,
   "metadata": {},
   "outputs": [
    {
     "name": "stdout",
     "output_type": "stream",
     "text": [
      "Train score 0.930959013131715\n",
      "Test score 0.9321503131524008\n"
     ]
    }
   ],
   "source": [
    "print('Train score {}'.format(gs.score(X=X_train1, y=y_train1)))\n",
    "print('Test score {}'.format(gs.score(X=X_test1, y=y_test)))"
   ]
  },
  {
   "cell_type": "code",
   "execution_count": 92,
   "metadata": {},
   "outputs": [
    {
     "data": {
      "image/png": "[encoded data removed]",
      "text/plain": [
       "<Figure size 432x360 with 2 Axes>"
      ]
     },
     "metadata": {
      "needs_background": "light"
     },
     "output_type": "display_data"
    },
    {
     "name": "stdout",
     "output_type": "stream",
     "text": [
      "              precision    recall  f1-score   support\n",
      "\n",
      "         0.0       0.83      0.86      0.84      4329\n",
      "         1.0       0.52      0.46      0.49      1419\n",
      "\n",
      "    accuracy                           0.76      5748\n",
      "   macro avg       0.68      0.66      0.67      5748\n",
      "weighted avg       0.75      0.76      0.76      5748\n",
      "\n"
     ]
    }
   ],
   "source": [
    "y_pred = gs.predict(X_test1)\n",
    "mostrar_resultados(y_test, y_pred)"
   ]
  },
  {
   "cell_type": "code",
   "execution_count": 89,
   "metadata": {},
   "outputs": [
    {
     "name": "stderr",
     "output_type": "stream",
     "text": [
      "D:\\Programas\\Anaconda3\\lib\\site-packages\\xgboost\\sklearn.py:1146: UserWarning: The use of label encoder in XGBClassifier is deprecated and will be removed in a future release. To remove this warning, do the following: 1) Pass option use_label_encoder=False when constructing XGBClassifier object; and 2) Encode your labels (y) as integers starting with 0, i.e. 0, 1, 2, ..., [num_class - 1].\n",
      "  warnings.warn(label_encoder_deprecation_msg, UserWarning)\n"
     ]
    },
    {
     "name": "stdout",
     "output_type": "stream",
     "text": [
      "[13:23:09] WARNING: ..\\src\\learner.cc:1095: Starting in XGBoost 1.3.0, the default evaluation metric used with the objective 'binary:logistic' was changed from 'error' to 'logloss'. Explicitly set eval_metric if you'd like to restore the old behavior.\n",
      "[13:23:14] WARNING: ..\\src\\learner.cc:1095: Starting in XGBoost 1.3.0, the default evaluation metric used with the objective 'binary:logistic' was changed from 'error' to 'logloss'. Explicitly set eval_metric if you'd like to restore the old behavior.\n",
      "[13:23:18] WARNING: ..\\src\\learner.cc:1095: Starting in XGBoost 1.3.0, the default evaluation metric used with the objective 'binary:logistic' was changed from 'error' to 'logloss'. Explicitly set eval_metric if you'd like to restore the old behavior.\n",
      "[13:23:22] WARNING: ..\\src\\learner.cc:1095: Starting in XGBoost 1.3.0, the default evaluation metric used with the objective 'binary:logistic' was changed from 'error' to 'logloss'. Explicitly set eval_metric if you'd like to restore the old behavior.\n",
      "[13:23:27] WARNING: ..\\src\\learner.cc:1095: Starting in XGBoost 1.3.0, the default evaluation metric used with the objective 'binary:logistic' was changed from 'error' to 'logloss'. Explicitly set eval_metric if you'd like to restore the old behavior.\n",
      "0.8026063193429354\n"
     ]
    }
   ],
   "source": [
    "from sklearn.model_selection import cross_val_score\n",
    "print(np.mean(cross_val_score(gs.best_estimator_, X_t, y_t, cv=5)))"
   ]
  },
  {
   "cell_type": "markdown",
   "metadata": {},
   "source": [
    "Aunque tras obtener el score del mejor modelo sobre el conjunto de test se obtiene un 0.93, haciendo uso de la función mostrar_resultados se observa que el accuracy realmente está en torno a 0.76. Si probamos de nuevo a entrenar un modelo con los parámetros obtenidos, efectivamente se obtiene un score de 0.76"
   ]
  },
  {
   "cell_type": "code",
   "execution_count": 107,
   "metadata": {},
   "outputs": [
    {
     "name": "stderr",
     "output_type": "stream",
     "text": [
      "D:\\Programas\\Anaconda3\\lib\\site-packages\\xgboost\\sklearn.py:1146: UserWarning: The use of label encoder in XGBClassifier is deprecated and will be removed in a future release. To remove this warning, do the following: 1) Pass option use_label_encoder=False when constructing XGBClassifier object; and 2) Encode your labels (y) as integers starting with 0, i.e. 0, 1, 2, ..., [num_class - 1].\n",
      "  warnings.warn(label_encoder_deprecation_msg, UserWarning)\n"
     ]
    },
    {
     "name": "stdout",
     "output_type": "stream",
     "text": [
      "[14:09:57] WARNING: ..\\src\\learner.cc:1095: Starting in XGBoost 1.3.0, the default evaluation metric used with the objective 'binary:logistic' was changed from 'error' to 'logloss'. Explicitly set eval_metric if you'd like to restore the old behavior.\n",
      "0.9525079733256017\n",
      "0.7536534446764092\n"
     ]
    },
    {
     "name": "stderr",
     "output_type": "stream",
     "text": [
      "D:\\Programas\\Anaconda3\\lib\\site-packages\\xgboost\\data.py:112: UserWarning: Use subset (sliced data) of np.ndarray is not recommended because it will generate extra copies and increase memory consumption\n",
      "  warnings.warn(\n"
     ]
    }
   ],
   "source": [
    "clfqq = XGBClassifier(**gs.best_params_, n_jobs=-1)\n",
    "clfqq.fit(X_train1, y_train1)\n",
    "print(clfqq.score(X=X_train1, y=y_train1))\n",
    "print(clfqq.score(X=X_test1, y=y_test))"
   ]
  },
  {
   "cell_type": "markdown",
   "metadata": {},
   "source": [
    "#### 2.3.6 XGBoost Random Forest"
   ]
  },
  {
   "cell_type": "code",
   "execution_count": 95,
   "metadata": {},
   "outputs": [
    {
     "name": "stdout",
     "output_type": "stream",
     "text": [
      "Fitting 5 folds for each of 120 candidates, totalling 600 fits\n"
     ]
    },
    {
     "name": "stderr",
     "output_type": "stream",
     "text": [
      "[Parallel(n_jobs=-1)]: Using backend LokyBackend with 4 concurrent workers.\n",
      "[Parallel(n_jobs=-1)]: Done  42 tasks      | elapsed:  1.3min\n",
      "[Parallel(n_jobs=-1)]: Done 192 tasks      | elapsed:  8.1min\n",
      "[Parallel(n_jobs=-1)]: Done 442 tasks      | elapsed: 22.7min\n",
      "[Parallel(n_jobs=-1)]: Done 600 out of 600 | elapsed: 33.4min finished\n",
      "D:\\Programas\\Anaconda3\\lib\\site-packages\\xgboost\\sklearn.py:1146: UserWarning: The use of label encoder in XGBClassifier is deprecated and will be removed in a future release. To remove this warning, do the following: 1) Pass option use_label_encoder=False when constructing XGBClassifier object; and 2) Encode your labels (y) as integers starting with 0, i.e. 0, 1, 2, ..., [num_class - 1].\n",
      "  warnings.warn(label_encoder_deprecation_msg, UserWarning)\n"
     ]
    },
    {
     "name": "stdout",
     "output_type": "stream",
     "text": [
      "[14:04:30] WARNING: ..\\src\\learner.cc:1095: Starting in XGBoost 1.3.0, the default evaluation metric used with the objective 'binary:logistic' was changed from 'error' to 'logloss'. Explicitly set eval_metric if you'd like to restore the old behavior.\n",
      "{'booster': 'gbtree', 'max_depth': 10, 'n_estimators': 100, 'reg_alpha': 0}\n",
      "Train score 0.7929433611884865\n",
      "Test score 0.8056715379262352\n",
      "    param_n_estimators param_max_depth param_booster param_reg_alpha  \\\n",
      "54                 100              10        gbtree               0   \n",
      "114                100              10          dart               0   \n",
      "119                120              10          dart           0.001   \n",
      "59                 120              10        gbtree           0.001   \n",
      "117                120              10          dart               0   \n",
      "58                 120              10        gbtree          0.0001   \n",
      "57                 120              10        gbtree               0   \n",
      "118                120              10          dart          0.0001   \n",
      "115                100              10          dart          0.0001   \n",
      "55                 100              10        gbtree          0.0001   \n",
      "\n",
      "     mean_test_score  \n",
      "54          0.767373  \n",
      "114         0.767373  \n",
      "119         0.767326  \n",
      "59          0.767326  \n",
      "117         0.767326  \n",
      "58          0.767326  \n",
      "57          0.767326  \n",
      "118         0.767326  \n",
      "115         0.767326  \n",
      "55          0.767326  \n"
     ]
    },
    {
     "name": "stderr",
     "output_type": "stream",
     "text": [
      "D:\\Programas\\Anaconda3\\lib\\site-packages\\xgboost\\data.py:112: UserWarning: Use subset (sliced data) of np.ndarray is not recommended because it will generate extra copies and increase memory consumption\n",
      "  warnings.warn(\n"
     ]
    }
   ],
   "source": [
    "xgbrf = XGBRFClassifier(objective=\"binary:logistic\", random_state=0)\n",
    "\n",
    "params = {'n_estimators': [60,80,100,120],\n",
    "        'max_depth': [6,7,8,9,10],\n",
    "        'booster': ['gbtree', 'dart'],\n",
    "        'reg_alpha': [0, 0.0001, 0.001]\n",
    "         }\n",
    "\n",
    "gs = GridSearchCV(estimator=xgbrf, param_grid=params, cv=5, verbose=1, n_jobs=-1)\n",
    "gs.fit(X_t, y_t)\n",
    "print(gs.best_params_)\n",
    "model_names.append('XGBoost Random Forest')\n",
    "model.append(gs)\n",
    "best_params.append(gs.best_params_)\n",
    "print('Train score {}'.format(gs.score(X=X_train1, y=y_train1)))\n",
    "print('Test score {}'.format(gs.score(X=X_test1, y=y_test)))\n",
    "results = pd.DataFrame(gs.cv_results_).sort_values(by='mean_test_score', ascending=False)\n",
    "df = results[['param_n_estimators', 'param_max_depth', 'param_booster', 'param_reg_alpha', 'mean_test_score']]\n",
    "print(df.head(10))"
   ]
  },
  {
   "cell_type": "code",
   "execution_count": 110,
   "metadata": {},
   "outputs": [
    {
     "name": "stderr",
     "output_type": "stream",
     "text": [
      "D:\\Programas\\Anaconda3\\lib\\site-packages\\xgboost\\sklearn.py:1146: UserWarning: The use of label encoder in XGBClassifier is deprecated and will be removed in a future release. To remove this warning, do the following: 1) Pass option use_label_encoder=False when constructing XGBClassifier object; and 2) Encode your labels (y) as integers starting with 0, i.e. 0, 1, 2, ..., [num_class - 1].\n",
      "  warnings.warn(label_encoder_deprecation_msg, UserWarning)\n"
     ]
    },
    {
     "name": "stdout",
     "output_type": "stream",
     "text": [
      "[14:12:58] WARNING: ..\\src\\learner.cc:1095: Starting in XGBoost 1.3.0, the default evaluation metric used with the objective 'binary:logistic' was changed from 'error' to 'logloss'. Explicitly set eval_metric if you'd like to restore the old behavior.\n",
      "0.800313916986397\n",
      "0.7758350730688935\n"
     ]
    },
    {
     "name": "stderr",
     "output_type": "stream",
     "text": [
      "D:\\Programas\\Anaconda3\\lib\\site-packages\\xgboost\\data.py:112: UserWarning: Use subset (sliced data) of np.ndarray is not recommended because it will generate extra copies and increase memory consumption\n",
      "  warnings.warn(\n"
     ]
    }
   ],
   "source": [
    "clf1 = XGBRFClassifier(**gs.best_params_, n_jobs=-1)\n",
    "clf1.fit(X_train1, y_train1)\n",
    "print(clf1.score(X=X_train1, y=y_train1))\n",
    "print(clf1.score(X=X_test1, y=y_test))"
   ]
  },
  {
   "cell_type": "markdown",
   "metadata": {},
   "source": [
    "#### 2.3.7 Multi-layer Percceptron (Fully Connected Neural Network)"
   ]
  },
  {
   "cell_type": "code",
   "execution_count": 113,
   "metadata": {},
   "outputs": [
    {
     "name": "stdout",
     "output_type": "stream",
     "text": [
      "Fitting 5 folds for each of 48 candidates, totalling 240 fits\n"
     ]
    },
    {
     "name": "stderr",
     "output_type": "stream",
     "text": [
      "[Parallel(n_jobs=-1)]: Using backend LokyBackend with 4 concurrent workers.\n",
      "[Parallel(n_jobs=-1)]: Done  42 tasks      | elapsed:  2.2min\n",
      "[Parallel(n_jobs=-1)]: Done 192 tasks      | elapsed: 12.4min\n",
      "[Parallel(n_jobs=-1)]: Done 240 out of 240 | elapsed: 16.8min finished\n"
     ]
    },
    {
     "name": "stdout",
     "output_type": "stream",
     "text": [
      "{'activation': 'logistic', 'alpha': 0.0001, 'hidden_layer_sizes': (10, 5, 2), 'solver': 'adam'}\n",
      "Train score 0.7664225090105802\n",
      "Test score 0.7870563674321504\n",
      "   param_activation param_hidden_layer_sizes param_solver param_alpha  \\\n",
      "9          logistic               (10, 5, 2)         adam      0.0001   \n",
      "38             relu                  (10, 2)        lbfgs      0.0001   \n",
      "1          logistic               (10, 5, 2)         adam           0   \n",
      "17         logistic               (10, 5, 2)         adam       0.001   \n",
      "46             relu                  (10, 2)        lbfgs       0.001   \n",
      "7          logistic                  (10, 2)         adam           0   \n",
      "30             relu                  (10, 2)        lbfgs           0   \n",
      "15         logistic                  (10, 2)         adam      0.0001   \n",
      "13         logistic                  (12, 2)         adam      0.0001   \n",
      "5          logistic                  (12, 2)         adam           0   \n",
      "\n",
      "    mean_test_score  \n",
      "9          0.758611  \n",
      "38         0.758425  \n",
      "1          0.757962  \n",
      "17         0.757499  \n",
      "46         0.757406  \n",
      "7          0.756293  \n",
      "30         0.756200  \n",
      "15         0.755598  \n",
      "13         0.755505  \n",
      "5          0.755459  \n"
     ]
    },
    {
     "name": "stderr",
     "output_type": "stream",
     "text": [
      "D:\\Programas\\Anaconda3\\lib\\site-packages\\sklearn\\neural_network\\_multilayer_perceptron.py:582: ConvergenceWarning: Stochastic Optimizer: Maximum iterations (200) reached and the optimization hasn't converged yet.\n",
      "  warnings.warn(\n"
     ]
    }
   ],
   "source": [
    "nn = MLPClassifier(random_state=0)\n",
    "\n",
    "params = {'activation': ['logistic', 'relu'],\n",
    "        'hidden_layer_sizes': [(10,5,2), (20,2), (12,2), (10,2)],\n",
    "        'solver': ['lbfgs', 'adam'],\n",
    "        'alpha': [0, 0.0001, 0.001]\n",
    "         }\n",
    "\n",
    "gs = GridSearchCV(estimator=nn, param_grid=params, cv=5, verbose=1, n_jobs=-1)\n",
    "gs.fit(X_t, y_t)\n",
    "print(gs.best_params_)\n",
    "model_names.append('Multi-layer Perceptron')\n",
    "model.append(gs)\n",
    "best_params.append(gs.best_params_)\n",
    "print('Train score {}'.format(gs.score(X=X_train1, y=y_train1)))\n",
    "print('Test score {}'.format(gs.score(X=X_test1, y=y_test)))\n",
    "results = pd.DataFrame(gs.cv_results_).sort_values(by='mean_test_score', ascending=False)\n",
    "df = results[['param_activation', 'param_hidden_layer_sizes', 'param_solver', 'param_alpha', 'mean_test_score']]\n",
    "print(df.head(10))"
   ]
  },
  {
   "cell_type": "code",
   "execution_count": 338,
   "metadata": {},
   "outputs": [],
   "source": [
    "model_names = ['Logistic Regression', 'Extra Trees', 'Random Forest', 'XGBoost', 'XGBoost Random Forest', 'Multi-layer Perceptron']"
   ]
  },
  {
   "cell_type": "code",
   "execution_count": 339,
   "metadata": {},
   "outputs": [],
   "source": [
    "best_params = [{'C': 4, 'solver': 'lbfgs'}, {'max_features': 'auto', 'max_leaf_nodes': 11, 'min_samples_leaf': 4, 'min_samples_split': 4}, \n",
    "              {'C': 8, 'loss': 'squared_hinge'}, {'max_depth': 8, 'max_features': 'auto', 'max_leaf_nodes': 11, 'min_samples_leaf': 20, 'min_samples_split': 4},\n",
    "              {'booster': 'gbtree', 'max_depth': 10, 'reg_alpha': 0.0001},{'booster': 'gbtree', 'max_depth': 10, 'n_estimators': 100, 'reg_alpha': 0},\n",
    "              {'activation': 'logistic', 'alpha': 0.0001, 'hidden_layer_sizes': (10, 5, 2), 'solver': 'adam'}]"
   ]
  },
  {
   "cell_type": "code",
   "execution_count": 340,
   "metadata": {},
   "outputs": [],
   "source": [
    "model = [LogisticRegression(**best_params[0]), ExtraTreesClassifier(**best_params[1]), \n",
    "      RandomForestClassifier(**best_params[3]), XGBClassifier(**best_params[4]), XGBRFClassifier(**best_params[5]),\n",
    "      MLPClassifier(**best_params[6])]"
   ]
  },
  {
   "cell_type": "code",
   "execution_count": 164,
   "metadata": {},
   "outputs": [
    {
     "name": "stderr",
     "output_type": "stream",
     "text": [
      "D:\\Programas\\Anaconda3\\lib\\site-packages\\xgboost\\sklearn.py:1146: UserWarning: The use of label encoder in XGBClassifier is deprecated and will be removed in a future release. To remove this warning, do the following: 1) Pass option use_label_encoder=False when constructing XGBClassifier object; and 2) Encode your labels (y) as integers starting with 0, i.e. 0, 1, 2, ..., [num_class - 1].\n",
      "  warnings.warn(label_encoder_deprecation_msg, UserWarning)\n"
     ]
    },
    {
     "name": "stdout",
     "output_type": "stream",
     "text": [
      "[23:13:44] WARNING: ..\\src\\learner.cc:1095: Starting in XGBoost 1.3.0, the default evaluation metric used with the objective 'binary:logistic' was changed from 'error' to 'logloss'. Explicitly set eval_metric if you'd like to restore the old behavior.\n",
      "[23:13:49] WARNING: ..\\src\\learner.cc:1095: Starting in XGBoost 1.3.0, the default evaluation metric used with the objective 'binary:logistic' was changed from 'error' to 'logloss'. Explicitly set eval_metric if you'd like to restore the old behavior.\n",
      "[23:13:53] WARNING: ..\\src\\learner.cc:1095: Starting in XGBoost 1.3.0, the default evaluation metric used with the objective 'binary:logistic' was changed from 'error' to 'logloss'. Explicitly set eval_metric if you'd like to restore the old behavior.\n",
      "[23:13:58] WARNING: ..\\src\\learner.cc:1095: Starting in XGBoost 1.3.0, the default evaluation metric used with the objective 'binary:logistic' was changed from 'error' to 'logloss'. Explicitly set eval_metric if you'd like to restore the old behavior.\n",
      "[23:14:03] WARNING: ..\\src\\learner.cc:1095: Starting in XGBoost 1.3.0, the default evaluation metric used with the objective 'binary:logistic' was changed from 'error' to 'logloss'. Explicitly set eval_metric if you'd like to restore the old behavior.\n"
     ]
    },
    {
     "name": "stderr",
     "output_type": "stream",
     "text": [
      "D:\\Programas\\Anaconda3\\lib\\site-packages\\xgboost\\sklearn.py:1146: UserWarning: The use of label encoder in XGBClassifier is deprecated and will be removed in a future release. To remove this warning, do the following: 1) Pass option use_label_encoder=False when constructing XGBClassifier object; and 2) Encode your labels (y) as integers starting with 0, i.e. 0, 1, 2, ..., [num_class - 1].\n",
      "  warnings.warn(label_encoder_deprecation_msg, UserWarning)\n"
     ]
    },
    {
     "name": "stdout",
     "output_type": "stream",
     "text": [
      "[23:14:12] WARNING: ..\\src\\learner.cc:1095: Starting in XGBoost 1.3.0, the default evaluation metric used with the objective 'binary:logistic' was changed from 'error' to 'logloss'. Explicitly set eval_metric if you'd like to restore the old behavior.\n",
      "[23:14:17] WARNING: ..\\src\\learner.cc:1095: Starting in XGBoost 1.3.0, the default evaluation metric used with the objective 'binary:logistic' was changed from 'error' to 'logloss'. Explicitly set eval_metric if you'd like to restore the old behavior.\n",
      "[23:14:22] WARNING: ..\\src\\learner.cc:1095: Starting in XGBoost 1.3.0, the default evaluation metric used with the objective 'binary:logistic' was changed from 'error' to 'logloss'. Explicitly set eval_metric if you'd like to restore the old behavior.\n",
      "[23:14:27] WARNING: ..\\src\\learner.cc:1095: Starting in XGBoost 1.3.0, the default evaluation metric used with the objective 'binary:logistic' was changed from 'error' to 'logloss'. Explicitly set eval_metric if you'd like to restore the old behavior.\n",
      "[23:14:32] WARNING: ..\\src\\learner.cc:1095: Starting in XGBoost 1.3.0, the default evaluation metric used with the objective 'binary:logistic' was changed from 'error' to 'logloss'. Explicitly set eval_metric if you'd like to restore the old behavior.\n"
     ]
    },
    {
     "name": "stderr",
     "output_type": "stream",
     "text": [
      "D:\\Programas\\Anaconda3\\lib\\site-packages\\sklearn\\neural_network\\_multilayer_perceptron.py:582: ConvergenceWarning: Stochastic Optimizer: Maximum iterations (200) reached and the optimization hasn't converged yet.\n",
      "  warnings.warn(\n",
      "D:\\Programas\\Anaconda3\\lib\\site-packages\\sklearn\\neural_network\\_multilayer_perceptron.py:582: ConvergenceWarning: Stochastic Optimizer: Maximum iterations (200) reached and the optimization hasn't converged yet.\n",
      "  warnings.warn(\n",
      "D:\\Programas\\Anaconda3\\lib\\site-packages\\sklearn\\neural_network\\_multilayer_perceptron.py:582: ConvergenceWarning: Stochastic Optimizer: Maximum iterations (200) reached and the optimization hasn't converged yet.\n",
      "  warnings.warn(\n"
     ]
    }
   ],
   "source": [
    "predictions = []\n",
    "from sklearn.model_selection import cross_val_predict\n",
    "for i in model:\n",
    "    predictions.append(cross_val_predict(i, X_t, y_t, cv=5, method='predict_proba'))\n",
    "    "
   ]
  },
  {
   "cell_type": "markdown",
   "metadata": {},
   "source": [
    "### 2.4 Model comparison"
   ]
  },
  {
   "cell_type": "code",
   "execution_count": 171,
   "metadata": {},
   "outputs": [
    {
     "data": {
      "image/png": "[encoded data removed]",
      "text/plain": [
       "<Figure size 576x432 with 1 Axes>"
      ]
     },
     "metadata": {
      "needs_background": "light"
     },
     "output_type": "display_data"
    }
   ],
   "source": [
    "from sklearn.metrics import roc_curve, roc_auc_score\n",
    "plt.figure(figsize=(8,6))\n",
    "for i in range(len(model)):\n",
    "    fpr, tpr, thre = roc_curve(y_t, predictions[i][:,1])\n",
    "    roc_auc = roc_auc_score(y_t, predictions[i][:,1])\n",
    "\n",
    "    plt.plot(fpr, tpr, label='AUC {} = {a}'.format(model_names[i], a=round(roc_auc, 3)))\n",
    "    plt.xlabel('False Positive Rate')\n",
    "    plt.ylabel('True Positive Rate')\n",
    "    plt.legend(loc='best')\n",
    "plt.plot([0, 1], '--', c='black')\n",
    "plt.show()"
   ]
  },
  {
   "cell_type": "code",
   "execution_count": 160,
   "metadata": {},
   "outputs": [
    {
     "name": "stderr",
     "output_type": "stream",
     "text": [
      "D:\\Programas\\Anaconda3\\lib\\site-packages\\xgboost\\sklearn.py:1146: UserWarning: The use of label encoder in XGBClassifier is deprecated and will be removed in a future release. To remove this warning, do the following: 1) Pass option use_label_encoder=False when constructing XGBClassifier object; and 2) Encode your labels (y) as integers starting with 0, i.e. 0, 1, 2, ..., [num_class - 1].\n",
      "  warnings.warn(label_encoder_deprecation_msg, UserWarning)\n"
     ]
    },
    {
     "name": "stdout",
     "output_type": "stream",
     "text": [
      "[23:11:21] WARNING: ..\\src\\learner.cc:1095: Starting in XGBoost 1.3.0, the default evaluation metric used with the objective 'binary:logistic' was changed from 'error' to 'logloss'. Explicitly set eval_metric if you'd like to restore the old behavior.\n"
     ]
    },
    {
     "name": "stderr",
     "output_type": "stream",
     "text": [
      "D:\\Programas\\Anaconda3\\lib\\site-packages\\xgboost\\data.py:112: UserWarning: Use subset (sliced data) of np.ndarray is not recommended because it will generate extra copies and increase memory consumption\n",
      "  warnings.warn(\n"
     ]
    },
    {
     "name": "stdout",
     "output_type": "stream",
     "text": [
      "[23:11:30] WARNING: ..\\src\\learner.cc:1095: Starting in XGBoost 1.3.0, the default evaluation metric used with the objective 'binary:logistic' was changed from 'error' to 'logloss'. Explicitly set eval_metric if you'd like to restore the old behavior.\n"
     ]
    }
   ],
   "source": [
    "predictions1 = []\n",
    "for i in model:\n",
    "    i.fit(X_train1, y_train1)\n",
    "    predictions1.append(i.predict_proba(X_test1))"
   ]
  },
  {
   "cell_type": "code",
   "execution_count": 172,
   "metadata": {},
   "outputs": [
    {
     "data": {
      "image/png": "[encoded data removed]",
      "text/plain": [
       "<Figure size 576x432 with 1 Axes>"
      ]
     },
     "metadata": {
      "needs_background": "light"
     },
     "output_type": "display_data"
    }
   ],
   "source": [
    "idx=1\n",
    "from sklearn.metrics import roc_curve, roc_auc_score\n",
    "plt.figure(figsize=(8,6))\n",
    "for i in range(len(model)):\n",
    "    fpr, tpr, thre = roc_curve(y_test, predictions1[i][:,1])\n",
    "    roc_auc = roc_auc_score(y_test, predictions1[i][:,1])\n",
    "\n",
    "    plt.plot(fpr, tpr, label='AUC {} = {a}'.format(model_names[i], a=round(roc_auc, 3)))\n",
    "    plt.xlabel('False Positive Rate')\n",
    "    plt.ylabel('True Positive Rate')\n",
    "    plt.legend(loc='best')\n",
    "plt.plot([0, 1], '--', c='black')\n",
    "plt.show()"
   ]
  },
  {
   "cell_type": "code",
   "execution_count": 341,
   "metadata": {},
   "outputs": [
    {
     "name": "stderr",
     "output_type": "stream",
     "text": [
      "D:\\Programas\\Anaconda3\\lib\\site-packages\\sklearn\\linear_model\\_logistic.py:762: ConvergenceWarning: lbfgs failed to converge (status=1):\n",
      "STOP: TOTAL NO. of ITERATIONS REACHED LIMIT.\n",
      "\n",
      "Increase the number of iterations (max_iter) or scale the data as shown in:\n",
      "    https://scikit-learn.org/stable/modules/preprocessing.html\n",
      "Please also refer to the documentation for alternative solver options:\n",
      "    https://scikit-learn.org/stable/modules/linear_model.html#logistic-regression\n",
      "  n_iter_i = _check_optimize_result(\n",
      "D:\\Programas\\Anaconda3\\lib\\site-packages\\xgboost\\sklearn.py:1146: UserWarning: The use of label encoder in XGBClassifier is deprecated and will be removed in a future release. To remove this warning, do the following: 1) Pass option use_label_encoder=False when constructing XGBClassifier object; and 2) Encode your labels (y) as integers starting with 0, i.e. 0, 1, 2, ..., [num_class - 1].\n",
      "  warnings.warn(label_encoder_deprecation_msg, UserWarning)\n"
     ]
    },
    {
     "name": "stdout",
     "output_type": "stream",
     "text": [
      "[11:00:19] WARNING: ..\\src\\learner.cc:1095: Starting in XGBoost 1.3.0, the default evaluation metric used with the objective 'binary:logistic' was changed from 'error' to 'logloss'. Explicitly set eval_metric if you'd like to restore the old behavior.\n"
     ]
    },
    {
     "name": "stderr",
     "output_type": "stream",
     "text": [
      "D:\\Programas\\Anaconda3\\lib\\site-packages\\xgboost\\data.py:112: UserWarning: Use subset (sliced data) of np.ndarray is not recommended because it will generate extra copies and increase memory consumption\n",
      "  warnings.warn(\n"
     ]
    },
    {
     "name": "stdout",
     "output_type": "stream",
     "text": [
      "[11:00:30] WARNING: ..\\src\\learner.cc:1095: Starting in XGBoost 1.3.0, the default evaluation metric used with the objective 'binary:logistic' was changed from 'error' to 'logloss'. Explicitly set eval_metric if you'd like to restore the old behavior.\n"
     ]
    },
    {
     "name": "stderr",
     "output_type": "stream",
     "text": [
      "D:\\Programas\\Anaconda3\\lib\\site-packages\\sklearn\\neural_network\\_multilayer_perceptron.py:582: ConvergenceWarning: Stochastic Optimizer: Maximum iterations (200) reached and the optimization hasn't converged yet.\n",
      "  warnings.warn(\n"
     ]
    }
   ],
   "source": [
    "\n",
    "from sklearn.metrics import accuracy_score\n",
    "predictions2 = []\n",
    "for i in model:\n",
    "    i.fit(X_train1, y_train1)\n",
    "    predictions2.append(i.predict(X_test1))\n",
    "\n",
    "metrics = np.zeros((len(model), 3))\n",
    "for i in range(len(model)):\n",
    "    metrics[i, 0] = f1_score(y_test, predictions2[i])\n",
    "    metrics[i, 1] = accuracy_score(y_test, predictions2[i])\n",
    "    metrics[i, 2] = precision_score(y_test, predictions2[i])\n",
    "    \n",
    "metrics = pd.DataFrame(metrics, columns=['F1 Score', 'Accuracy', 'Precision'], index=model_names)"
   ]
  },
  {
   "cell_type": "code",
   "execution_count": 342,
   "metadata": {},
   "outputs": [
    {
     "name": "stdout",
     "output_type": "stream",
     "text": [
      "                        F1 Score  Accuracy  Precision\n",
      "Logistic Regression     0.453317  0.767745   0.520451\n",
      "Extra Trees             0.203209  0.766701   0.561576\n",
      "Random Forest           0.370532  0.774791   0.561947\n",
      "XGBoost                 0.481886  0.764875   0.510976\n",
      "XGBoost Random Forest   0.546316  0.775052   0.529052\n",
      "Multi-layer Perceptron  0.516060  0.764092   0.507903\n"
     ]
    }
   ],
   "source": [
    "print(metrics)"
   ]
  },
  {
   "cell_type": "markdown",
   "metadata": {},
   "source": [
    "## CONCLUSIONES\n",
    "\n",
    "Tras realizar el grid search sobre varios de los modelos (todos los vistos en el apartado anterior menos el KNN, ya que proporcionaba un score bastante menor que el resto), observamos que los modelos que mejor score promedio obtienen en test tras el cross validation son el XGBoost y el XGRFBoost, llegando el XGBoost a obtener un accuracy medio de 0.8026. Sin embargo, si luego evaluamos el modelo obtenido sobre un conjunto de train y test separados, los resultados terminan siendo inferiores (disminuye a 0.7536). En el caso del XGRFBoost, ocurre lo contrario, y aumenta de 0.7673 en CV a 0.7758 en test una vez realizado el entrenamiento sobre elmejor estimador.\n",
    "\n",
    "Tras pintar las curvas ROC para todos los modelos (menos para el LinearSVC que no admite el método predict_proba), observamos que, haciendo un cross val predict, efectivamente los modelos con una AUC más alta son el XGBoost y el XGRFBoost, seguidos de la red neuronal MLP. Sin embargo, si volvemos a entrenar los modelos con los datos de train y test, se observan cosas algo diferentes.Ahora el modelo con mayor AUC es el XGRFBoost, seguido de la red neuronal, pero el modelo XGBoost es el que menor AUC muestra.\n",
    "\n",
    "Si nos centramos en la perspectiva de negocio, podemos determinar que la posición menos favorable para una empresa sería predecir que un empleado no se va a ir, cuando realmente este sí tiene intención de cambiar de trabajo. Es decir, los False Negatives son los valores más perjudiciales y por tanto debemos tratar de reducirlos. Si nos fijamos en las matrices de confusión del análisis inicial de los modelos, el modelo que más reduce esta ratio es la red neuronal, siendo la única con menos de 400 FN. Los siguientes mejores son el XGBoost, el modelo KNN (el cual descartamos por otras razones) y el XGRFBoost.\n",
    "\n",
    "Todos los indicios indican que los modelos que mejor se deberían comportar este problema en cuestión son:\n",
    "- XGBoost\n",
    "- XGRFBoost \n",
    "- MLP\n",
    "\n",
    "Es por eso que vamos a continuar explorando posibilidades con estos tres modelos, y vamos a comprobar si las variables encontradas en el proceso de feature engineering surten efecto.\n"
   ]
  },
  {
   "cell_type": "markdown",
   "metadata": {},
   "source": [
    "## 3. Análisis final (mejores modelos + feature engineering)\n",
    "\n",
    "Ahora que ya hemos seleccionado los mejores modelos, vamos a realizar ciertas transformaciones nuevas sobre el pipeline de datos, probando a crear nuevas variables y a eliminar otras que consideremos poco relevante, en función de las conclusiones obtenidas en el notebook *Feature_Engineering*."
   ]
  },
  {
   "cell_type": "code",
   "execution_count": 332,
   "metadata": {
    "jupyter": {
     "source_hidden": true
    }
   },
   "outputs": [],
   "source": [
    "# pasos del pipeline categórico\n",
    "cat_steps = [\n",
    "    ('selector', DataFrameSelector(cat_cols)),\n",
    "    # Creamos las features que necesitemos\n",
    "    ('creator1', CreateFeatures(combine_features, col1='experiencia', col2='experiencia_relevante',\n",
    "                               new_col_name='exp_exp-rel', f1=buckets_experiencia)),\n",
    "#     ('creator5', CreateFeatures(buckets_experiencia, col1='experiencia')),\n",
    "#     ('creator2', CreateFeatures(combine_features, col1='experiencia', col2='tamano_compania',\n",
    "#                                new_col_name='exp_tam', f1=buckets_experiencia, f2=buckets_tam_compania)),\n",
    "#     ('creator3', CreateFeatures(combine_features, col1='ultimo_nuevo_trabajo', col2='tamano_compania',\n",
    "#                                new_col_name='ult_tam', f2=buckets_tam_compania)),\n",
    "#     ('creator4', CreateFeatures(combine_features, col1='exp_exp-rel', col2='universidad_matriculado',\n",
    "#                                new_col_name='exp_exp-rel_uni')),\n",
    "#     ('creator6', CreateFeatures(combine_features, col1='experiencia', col2='universidad_matriculado',\n",
    "#                                new_col_name='exp_uni')),\n",
    "    ('dropper', DropFeatures(['tipo_compania', 'ciudad', 'educacion'])),\n",
    "    ('stringer', Stringer()),\n",
    "    ('imputer', Imputer(strategy='most_frequent')),\n",
    "    ('encoder', Encoder(limit=20))\n",
    "]\n",
    "\n",
    "# Pasos del pipeline numérico\n",
    "num_steps = [\n",
    "    ('selector', DataFrameSelector(num_cols)),\n",
    "    ('dropper', DropFeatures(['empleado_id'])),\n",
    "    ('imputer', Imputer(strategy='median')),\n",
    "    ('scaler', MinMaxScaler())\n",
    "]\n",
    "\n",
    "num_pipeline = Pipeline(num_steps)\n",
    "cat_pipeline = Pipeline(cat_steps)\n",
    "\n",
    "# Concatenación de pipelines\n",
    "full_pipeline = FeatureUnion([\n",
    "    ('numeric_pipeline', num_pipeline),\n",
    "    ('categorical_pipeline', cat_pipeline)\n",
    "])"
   ]
  },
  {
   "cell_type": "code",
   "execution_count": 333,
   "metadata": {},
   "outputs": [],
   "source": [
    "from sklearn.model_selection import train_test_split\n",
    "from imblearn.over_sampling import RandomOverSampler\n",
    "\n",
    "# Separamos la variable objetivo\n",
    "y = data['target']\n",
    "X = data.drop('target', axis=1)\n",
    "# Generamos conjuntos de train y test\n",
    "X_train, X_test, y_train, y_test = train_test_split(X, y, test_size=0.2, random_state=123)\n",
    "\n",
    "# Aplicamos el oversampling\n",
    "os =  RandomOverSampler(random_state=1, sampling_strategy=0.5)\n",
    "X_train_res, y_train1 = os.fit_resample(X_train, y_train)\n",
    "\n",
    "# Aplicamos el pipeline de transformación\n",
    "X_train1 = full_pipeline.fit_transform(X_train_res)\n",
    "X_test1 = full_pipeline.transform(X_test)\n",
    "\n",
    "X_t, y_t = os.fit_resample(X, y)\n",
    "X_t = full_pipeline.fit_transform(X_t)"
   ]
  },
  {
   "cell_type": "code",
   "execution_count": 316,
   "metadata": {},
   "outputs": [],
   "source": [
    "final_models = model[-3:]\n",
    "final_model_names = model_names[-3:]"
   ]
  },
  {
   "cell_type": "code",
   "execution_count": 317,
   "metadata": {},
   "outputs": [
    {
     "name": "stdout",
     "output_type": "stream",
     "text": [
      "XGBOOST\n",
      "[01:51:57] WARNING: ..\\src\\learner.cc:1095: Starting in XGBoost 1.3.0, the default evaluation metric used with the objective 'binary:logistic' was changed from 'error' to 'logloss'. Explicitly set eval_metric if you'd like to restore the old behavior.\n"
     ]
    },
    {
     "name": "stderr",
     "output_type": "stream",
     "text": [
      "D:\\Programas\\Anaconda3\\lib\\site-packages\\xgboost\\sklearn.py:1146: UserWarning: The use of label encoder in XGBClassifier is deprecated and will be removed in a future release. To remove this warning, do the following: 1) Pass option use_label_encoder=False when constructing XGBClassifier object; and 2) Encode your labels (y) as integers starting with 0, i.e. 0, 1, 2, ..., [num_class - 1].\n",
      "  warnings.warn(label_encoder_deprecation_msg, UserWarning)\n",
      "D:\\Programas\\Anaconda3\\lib\\site-packages\\xgboost\\data.py:112: UserWarning: Use subset (sliced data) of np.ndarray is not recommended because it will generate extra copies and increase memory consumption\n",
      "  warnings.warn(\n"
     ]
    },
    {
     "name": "stdout",
     "output_type": "stream",
     "text": [
      "Train score XGBoost 0.945645855133124\n",
      "Test score XGBoost 0.764874739039666\n"
     ]
    },
    {
     "data": {
      "image/png": "[encoded data removed]",
      "text/plain": [
       "<Figure size 432x360 with 2 Axes>"
      ]
     },
     "metadata": {
      "needs_background": "light"
     },
     "output_type": "display_data"
    },
    {
     "name": "stdout",
     "output_type": "stream",
     "text": [
      "              precision    recall  f1-score   support\n",
      "\n",
      "         0.0       0.83      0.86      0.85      2913\n",
      "         1.0       0.51      0.46      0.48       919\n",
      "\n",
      "    accuracy                           0.76      3832\n",
      "   macro avg       0.67      0.66      0.66      3832\n",
      "weighted avg       0.76      0.76      0.76      3832\n",
      "\n",
      "XGBOOST RANDOM FOREST\n",
      "[01:52:09] WARNING: ..\\src\\learner.cc:1095: Starting in XGBoost 1.3.0, the default evaluation metric used with the objective 'binary:logistic' was changed from 'error' to 'logloss'. Explicitly set eval_metric if you'd like to restore the old behavior.\n",
      "Train score XGBoost Random Forest 0.7978723404255319\n",
      "Test score XGBoost Random Forest 0.7750521920668059\n"
     ]
    },
    {
     "data": {
      "image/png": "[encoded data removed]",
      "text/plain": [
       "<Figure size 432x360 with 2 Axes>"
      ]
     },
     "metadata": {
      "needs_background": "light"
     },
     "output_type": "display_data"
    },
    {
     "name": "stdout",
     "output_type": "stream",
     "text": [
      "              precision    recall  f1-score   support\n",
      "\n",
      "         0.0       0.86      0.84      0.85      2913\n",
      "         1.0       0.53      0.56      0.55       919\n",
      "\n",
      "    accuracy                           0.78      3832\n",
      "   macro avg       0.69      0.70      0.70      3832\n",
      "weighted avg       0.78      0.78      0.78      3832\n",
      "\n",
      "MULTI-LAYER PERCEPTRON\n",
      "Train score Multi-layer Perceptron 0.7368910591791652\n",
      "Test score Multi-layer Perceptron 0.7552192066805845\n"
     ]
    },
    {
     "data": {
      "image/png": "[encoded data removed]",
      "text/plain": [
       "<Figure size 432x360 with 2 Axes>"
      ]
     },
     "metadata": {
      "needs_background": "light"
     },
     "output_type": "display_data"
    },
    {
     "name": "stdout",
     "output_type": "stream",
     "text": [
      "              precision    recall  f1-score   support\n",
      "\n",
      "         0.0       0.85      0.82      0.84      2913\n",
      "         1.0       0.49      0.55      0.52       919\n",
      "\n",
      "    accuracy                           0.76      3832\n",
      "   macro avg       0.67      0.68      0.68      3832\n",
      "weighted avg       0.77      0.76      0.76      3832\n",
      "\n"
     ]
    }
   ],
   "source": [
    "for i, m in enumerate(final_models):\n",
    "    print(final_model_names[i].upper())\n",
    "    m.fit(X_train1, y_train1)\n",
    "    y_pred = m.predict(X_test1)\n",
    "    print('Train score {} {}'.format(final_model_names[i], m.score(X=X_train1, y=y_train1)))\n",
    "    print('Test score {} {}'.format(final_model_names[i], m.score(X=X_test1, y=y_test)))\n",
    "    mostrar_resultados(y_test, y_pred)\n"
   ]
  },
  {
   "cell_type": "markdown",
   "metadata": {},
   "source": [
    "Tras realizar varias comprobaciones, parece que el modelo que mejor accuracy consigue en el set de test es el **XGRFBoost**, logrando un score cercano al 0.78. Esto se logra añadiendo la variable combinada entre experiencia y experiencia relevante, y eliminando además la variable *tipo_compania*. Aunque a priori parecía que las variables *ciudad* y *educacion* sería las menos relevantes para el modelo, según el notebook de feature engineering, su eliminación no contribuye a mejorar la precisión del modelo, sino que además la disminuye.\n",
    "\n",
    "Aunque la eliminación de dichas dos variables no influya en el accuracy, si que contribuye a disminuir el número de False Negatives, por lo que su inclusión podría estar justificada.\n",
    "\n",
    "Por lo general, los resultados obtenidos son muy pobres. El accuracy es poco superior al 0.75, y eso teniendo en cuenta que el dataset contiene un 75% de valores correspondientes a la clase *0*. Por lo tanto, es importante observar que en el modelo escogido, los valores de F1 score indican que se mejora el 75% de acierto para la clase *0* (F1 score = 0.85) y el 50% de acierto para la clase *1* (F1 score = 0.55). Es decir, el modelo es capaz de predecir la fuga mejor que si lo escogiéramos de manera aleatoria."
   ]
  },
  {
   "cell_type": "markdown",
   "metadata": {},
   "source": [
    "Por último, dado que ya conocemos el mejora candidato, vamos a proceder a realizar un nuevo grid search sobre este modelo teniendo en cuenta el nuevo pipeline"
   ]
  },
  {
   "cell_type": "markdown",
   "metadata": {},
   "source": [
    "### 3.1 Modelo final"
   ]
  },
  {
   "cell_type": "code",
   "execution_count": 319,
   "metadata": {},
   "outputs": [
    {
     "name": "stdout",
     "output_type": "stream",
     "text": [
      "Fitting 5 folds for each of 96 candidates, totalling 480 fits\n"
     ]
    },
    {
     "name": "stderr",
     "output_type": "stream",
     "text": [
      "[Parallel(n_jobs=-1)]: Using backend LokyBackend with 4 concurrent workers.\n",
      "[Parallel(n_jobs=-1)]: Done  42 tasks      | elapsed:  1.9min\n",
      "[Parallel(n_jobs=-1)]: Done 192 tasks      | elapsed: 10.7min\n",
      "[Parallel(n_jobs=-1)]: Done 442 tasks      | elapsed: 30.5min\n",
      "[Parallel(n_jobs=-1)]: Done 480 out of 480 | elapsed: 33.9min finished\n",
      "D:\\Programas\\Anaconda3\\lib\\site-packages\\xgboost\\sklearn.py:1146: UserWarning: The use of label encoder in XGBClassifier is deprecated and will be removed in a future release. To remove this warning, do the following: 1) Pass option use_label_encoder=False when constructing XGBClassifier object; and 2) Encode your labels (y) as integers starting with 0, i.e. 0, 1, 2, ..., [num_class - 1].\n",
      "  warnings.warn(label_encoder_deprecation_msg, UserWarning)\n"
     ]
    },
    {
     "name": "stdout",
     "output_type": "stream",
     "text": [
      "[08:54:53] WARNING: ..\\src\\learner.cc:1095: Starting in XGBoost 1.3.0, the default evaluation metric used with the objective 'binary:logistic' was changed from 'error' to 'logloss'. Explicitly set eval_metric if you'd like to restore the old behavior.\n",
      "{'booster': 'gbtree', 'max_depth': 11, 'n_estimators': 60, 'reg_alpha': 0.001}\n",
      "Train score 0.801999767468899\n",
      "Test score 0.8105427974947808\n",
      "   param_n_estimators param_max_depth param_booster param_reg_alpha  \\\n",
      "86                 60              11          dart           0.001   \n",
      "38                 60              11        gbtree           0.001   \n",
      "37                 60              11        gbtree          0.0001   \n",
      "84                 60              11          dart               0   \n",
      "85                 60              11          dart          0.0001   \n",
      "36                 60              11        gbtree               0   \n",
      "47                120              11        gbtree           0.001   \n",
      "95                120              11          dart           0.001   \n",
      "45                120              11        gbtree               0   \n",
      "94                120              11          dart          0.0001   \n",
      "\n",
      "    mean_test_score  \n",
      "86         0.768949  \n",
      "38         0.768949  \n",
      "37         0.768810  \n",
      "84         0.768810  \n",
      "85         0.768810  \n",
      "36         0.768810  \n",
      "47         0.768207  \n",
      "95         0.768207  \n",
      "45         0.768161  \n",
      "94         0.768161  \n"
     ]
    },
    {
     "name": "stderr",
     "output_type": "stream",
     "text": [
      "D:\\Programas\\Anaconda3\\lib\\site-packages\\xgboost\\data.py:112: UserWarning: Use subset (sliced data) of np.ndarray is not recommended because it will generate extra copies and increase memory consumption\n",
      "  warnings.warn(\n"
     ]
    }
   ],
   "source": [
    "xgbrf = XGBRFClassifier(objective=\"binary:logistic\", random_state=0)\n",
    "\n",
    "params = {'n_estimators': [60,80,100,120],\n",
    "        'max_depth': range(8,12),\n",
    "        'booster': ['gbtree', 'dart'],\n",
    "        'reg_alpha': [0, 0.0001, 0.001]\n",
    "         }\n",
    "\n",
    "gs = GridSearchCV(estimator=xgbrf, param_grid=params, cv=5, verbose=1, n_jobs=-1)\n",
    "gs.fit(X_t, y_t)\n",
    "print(gs.best_params_)\n",
    "model_names.append('XGBoost Random Forest')\n",
    "model.append(gs)\n",
    "best_params.append(gs.best_params_)\n",
    "print('Train score {}'.format(gs.score(X=X_train1, y=y_train1)))\n",
    "print('Test score {}'.format(gs.score(X=X_test1, y=y_test)))\n",
    "results = pd.DataFrame(gs.cv_results_).sort_values(by='mean_test_score', ascending=False)\n",
    "df = results[['param_n_estimators', 'param_max_depth', 'param_booster', 'param_reg_alpha', 'mean_test_score']]\n",
    "print(df.head(10))"
   ]
  },
  {
   "cell_type": "code",
   "execution_count": 327,
   "metadata": {
    "scrolled": true
   },
   "outputs": [
    {
     "name": "stdout",
     "output_type": "stream",
     "text": [
      "[09:10:30] WARNING: ..\\src\\learner.cc:1095: Starting in XGBoost 1.3.0, the default evaluation metric used with the objective 'binary:logistic' was changed from 'error' to 'logloss'. Explicitly set eval_metric if you'd like to restore the old behavior.\n",
      "Train score 0.8106034182071852\n",
      "Test score 0.776356993736952\n"
     ]
    },
    {
     "data": {
      "image/png": "[encoded data removed]",
      "text/plain": [
       "<Figure size 432x360 with 2 Axes>"
      ]
     },
     "metadata": {
      "needs_background": "light"
     },
     "output_type": "display_data"
    },
    {
     "name": "stdout",
     "output_type": "stream",
     "text": [
      "F1 score = 0.5477572559366755\n",
      "              precision    recall  f1-score   support\n",
      "\n",
      "         0.0       0.86      0.84      0.85      2913\n",
      "         1.0       0.53      0.56      0.55       919\n",
      "\n",
      "    accuracy                           0.78      3832\n",
      "   macro avg       0.70      0.70      0.70      3832\n",
      "weighted avg       0.78      0.78      0.78      3832\n",
      "\n"
     ]
    }
   ],
   "source": [
    "xgbrf = XGBRFClassifier(**gs.best_params_)\n",
    "xgbrf.fit(X_train1, y_train1)\n",
    "y_pred = xgbrf.predict(X_test1)\n",
    "print('Train score {}'.format(xgbrf.score(X=X_train1, y=y_train1)))\n",
    "print('Test score {}'.format(xgbrf.score(X=X_test1, y=y_test)))\n",
    "mostrar_resultados(y_test, y_pred)"
   ]
  },
  {
   "cell_type": "code",
   "execution_count": null,
   "metadata": {},
   "outputs": [],
   "source": []
  }
 ],
 "metadata": {
  "kernelspec": {
   "display_name": "Python 3",
   "language": "python",
   "name": "python3"
  },
  "language_info": {
   "codemirror_mode": {
    "name": "ipython",
    "version": 3
   },
   "file_extension": ".py",
   "mimetype": "text/x-python",
   "name": "python",
   "nbconvert_exporter": "python",
   "pygments_lexer": "ipython3",
   "version": "3.8.10"
  }
 },
 "nbformat": 4,
 "nbformat_minor": 4
}
